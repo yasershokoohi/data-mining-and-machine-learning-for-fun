{
  "nbformat": 4,
  "nbformat_minor": 0,
  "metadata": {
    "colab": {
      "name": "Predict car prices by scripting the web and data mining.ipynb",
      "provenance": []
    },
    "kernelspec": {
      "name": "python3",
      "display_name": "Python 3"
    },
    "language_info": {
      "name": "python"
    }
  },
  "cells": [
    {
      "cell_type": "code",
      "metadata": {
        "id": "okzwlZAjsY7F"
      },
      "source": [
        "import re\n",
        "from bs4 import BeautifulSoup\n",
        "import requests\n",
        "import pandas as pd\n",
        "import numpy as np"
      ],
      "execution_count": null,
      "outputs": []
    },
    {
      "cell_type": "code",
      "metadata": {
        "id": "rFu6G_R6sbIY"
      },
      "source": [
        "url1='https://www.cars.com/shopping/results/?page=1&page_size=100&list_price_max=&makes[]=&maximum_distance=all&models[]=&stock_type=all&zip='\n",
        "url2='https://www.cars.com/shopping/results/?page=2&page_size=100&list_price_max=&makes[]=&maximum_distance=all&models[]=&stock_type=all&zip='\n",
        "url3='https://www.cars.com/shopping/results/?page=3&page_size=100&list_price_max=&makes[]=&maximum_distance=all&models[]=&stock_type=all&zip='\n",
        "url4='https://www.cars.com/shopping/results/?page=4&page_size=100&list_price_max=&makes[]=&maximum_distance=all&models[]=&stock_type=all&zip='\n",
        "url5='https://www.cars.com/shopping/results/?page=5&page_size=100&list_price_max=&makes[]=&maximum_distance=all&models[]=&stock_type=all&zip='\n",
        "url6='https://www.cars.com/shopping/results/?page=6&page_size=100&list_price_max=&makes[]=&maximum_distance=all&models[]=&stock_type=all&zip='\n",
        "url7='https://www.cars.com/shopping/results/?page=7&page_size=100&list_price_max=&makes[]=&maximum_distance=all&models[]=&stock_type=all&zip='\n",
        "url8='https://www.cars.com/shopping/results/?page=8&page_size=100&list_price_max=&makes[]=&maximum_distance=all&models[]=&stock_type=all&zip='\n",
        "url9='https://www.cars.com/shopping/results/?page=9&page_size=100&list_price_max=&makes[]=&maximum_distance=all&models[]=&stock_type=all&zip='\n",
        "url10='https://www.cars.com/shopping/results/?page=10&page_size=100&list_price_max=&makes[]=&maximum_distance=all&models[]=&stock_type=all&zip='\n",
        "url11='https://www.cars.com/shopping/results/?page=11&page_size=100&list_price_max=&makes[]=&maximum_distance=all&models[]=&stock_type=all&zip='\n",
        "url12='https://www.cars.com/shopping/results/?page=12&page_size=100&list_price_max=&makes[]=&maximum_distance=all&models[]=&stock_type=all&zip='\n",
        "url13='https://www.cars.com/shopping/results/?page=13&page_size=100&list_price_max=&makes[]=&maximum_distance=all&models[]=&stock_type=all&zip='\n",
        "url14='https://www.cars.com/shopping/results/?page=14&page_size=100&list_price_max=&makes[]=&maximum_distance=all&models[]=&stock_type=all&zip='\n",
        "url15='https://www.cars.com/shopping/results/?page=15&page_size=100&list_price_max=&makes[]=&maximum_distance=all&models[]=&stock_type=all&zip='\n",
        "url16='https://www.cars.com/shopping/results/?page=16&page_size=100&list_price_max=&makes[]=&maximum_distance=all&models[]=&stock_type=all&zip='\n",
        "url17='https://www.cars.com/shopping/results/?page=17&page_size=100&list_price_max=&makes[]=&maximum_distance=all&models[]=&stock_type=all&zip='\n",
        "url18='https://www.cars.com/shopping/results/?page=18&page_size=100&list_price_max=&makes[]=&maximum_distance=all&models[]=&stock_type=all&zip='\n",
        "url19='https://www.cars.com/shopping/results/?page=19&page_size=100&list_price_max=&makes[]=&maximum_distance=all&models[]=&stock_type=all&zip='\n",
        "url20='https://www.cars.com/shopping/results/?page=20&page_size=100&list_price_max=&makes[]=&maximum_distance=all&models[]=&stock_type=all&zip='\n",
        "url21='https://www.cars.com/shopping/results/?page=21&page_size=100&list_price_max=&makes[]=&maximum_distance=all&models[]=&stock_type=all&zip='\n",
        "url22='https://www.cars.com/shopping/results/?page=22&page_size=100&list_price_max=&makes[]=&maximum_distance=all&models[]=&stock_type=all&zip='\n",
        "url23='https://www.cars.com/shopping/results/?page=23&page_size=100&list_price_max=&makes[]=&maximum_distance=all&models[]=&stock_type=all&zip='\n",
        "url24='https://www.cars.com/shopping/results/?page=24&page_size=100&list_price_max=&makes[]=&maximum_distance=all&models[]=&stock_type=all&zip='\n",
        "url25='https://www.cars.com/shopping/results/?page=25&page_size=100&list_price_max=&makes[]=&maximum_distance=all&models[]=&stock_type=all&zip='\n",
        "url26='https://www.cars.com/shopping/results/?page=26&page_size=100&list_price_max=&makes[]=&maximum_distance=all&models[]=&stock_type=all&zip='\n",
        "url27='https://www.cars.com/shopping/results/?page=27&page_size=100&list_price_max=&makes[]=&maximum_distance=all&models[]=&stock_type=all&zip='\n",
        "url28='https://www.cars.com/shopping/results/?page=28&page_size=100&list_price_max=&makes[]=&maximum_distance=all&models[]=&stock_type=all&zip='\n",
        "url29='https://www.cars.com/shopping/results/?page=29&page_size=100&list_price_max=&makes[]=&maximum_distance=all&models[]=&stock_type=all&zip='\n",
        "url30='https://www.cars.com/shopping/results/?page=30&page_size=100&list_price_max=&makes[]=&maximum_distance=all&models[]=&stock_type=all&zip='\n"
      ],
      "execution_count": null,
      "outputs": []
    },
    {
      "cell_type": "code",
      "metadata": {
        "id": "2mBLK2L3sgex"
      },
      "source": [
        "listurl=[url1,url2,url3,url4,url5,url6,url7,url8,url9,url10,url11,url12,url13,url14,url15,url16,url17,url18,url19,url20,url21,url22,url23,url24,url25,url26,url27,url28,url29,url30]"
      ],
      "execution_count": null,
      "outputs": []
    },
    {
      "cell_type": "code",
      "metadata": {
        "id": "mGh9xIfvskce"
      },
      "source": [
        "listvehicle=[]\n",
        "for i in range(0,29):\n",
        "  page=requests.get(listurl[i])\n",
        "  soup=BeautifulSoup(page.text,'html.parser')\n",
        "\n",
        "  page2=soup.select('a.vehicle-card-link')\n",
        "\n",
        "  strlink='https://www.cars.com/'\n",
        "\n",
        "  for link in page2:\n",
        "    listf=[]\n",
        "\n",
        "    ss=re.findall(r'href=\"(.*)\\\"',str(link))\n",
        "    l=strlink+ss[0]\n",
        "    ssss=requests.get(l)\n",
        "    aaa=BeautifulSoup(ssss.text,'html.parser')\n",
        "    p=aaa.select('dl.fancy-description-list')\n",
        "    new1=BeautifulSoup(p[0].text,'html.parser')\n",
        "    a=str(new1)\n",
        "\n",
        "\n",
        "    Exteriorcolor=re.findall(r'\\nExterior color\\n(.*)\\n',a)\n",
        "    if not Exteriorcolor:\n",
        "      listf.append('nodata')\n",
        "    else:\n",
        "      b=Exteriorcolor[0].strip()\n",
        "      listf.append(b)\n",
        "\n",
        "\n",
        "    Interiorcolor=re.findall(r'\\nInterior color\\n(.*)\\n',a)\n",
        "    if not Interiorcolor:\n",
        "      listf.append('nodata')\n",
        "    else:\n",
        "      b=Interiorcolor[0].strip()\n",
        "      listf.append(b)\n",
        "\n",
        "\n",
        "\n",
        "    Drivetrain=re.findall(r'\\nDrivetrain\\n(.*)\\n',a)\n",
        "    if not Drivetrain:\n",
        "      listf.append('nodata')\n",
        "    else:\n",
        "      b=Drivetrain[0].strip()\n",
        "      listf.append(b)\n",
        "\n",
        "\n",
        "  \n",
        "    Fueltype=re.findall(r'\\\\nFuel type\\n(.*)\\n',a)\n",
        "    if not Fueltype:\n",
        "      listf.append('nodata')\n",
        "    else:\n",
        "      b=Fueltype[0].strip()\n",
        "      listf.append(b)\n",
        "\n",
        "\n",
        "    Transmission=re.findall(r'\\nTransmission\\n(.*)\\n',a)\n",
        "    if not Transmission:\n",
        "      listf.append('nodata')\n",
        "    else:\n",
        "      b=Transmission[0].strip()\n",
        "      listf.append(b)\n",
        "\n",
        "\n",
        "    Engine=re.findall(r'\\nEngine\\n(.*)\\n',a)\n",
        "    if not Engine:\n",
        "      listf.append('nodata')\n",
        "    else:\n",
        "      b=Engine[0].strip()\n",
        "      listf.append(b)\n",
        "\n",
        "\n",
        "    Mileage=re.findall(r'\\nMileage\\n(.*)\\n',a)\n",
        "    if not Mileage:\n",
        "      listf.append('nodata')\n",
        "    else:\n",
        "      b=Mileage[0].strip()\n",
        "      listf.append(b)\n",
        "\n",
        "    listvehicle.append(listf)"
      ],
      "execution_count": null,
      "outputs": []
    },
    {
      "cell_type": "code",
      "metadata": {
        "id": "7ZiXTvG362EF"
      },
      "source": [
        "#Exteriorcolor     #Interiorcolor    #Drivetrain     #Fueltype    #Transmission   #Engine   \n",
        "#Mileage"
      ],
      "execution_count": null,
      "outputs": []
    },
    {
      "cell_type": "code",
      "metadata": {
        "colab": {
          "base_uri": "https://localhost:8080/"
        },
        "id": "PixqV4rd19n4",
        "outputId": "c01cb126-9f8e-4457-9240-7874e9db7c14"
      },
      "source": [
        "len(listvehicle)"
      ],
      "execution_count": null,
      "outputs": [
        {
          "output_type": "execute_result",
          "data": {
            "text/plain": [
              "2880"
            ]
          },
          "metadata": {
            "tags": []
          },
          "execution_count": 6
        }
      ]
    },
    {
      "cell_type": "code",
      "metadata": {
        "colab": {
          "base_uri": "https://localhost:8080/",
          "height": 34
        },
        "id": "eP7D3At_2IM1",
        "outputId": "656c93a2-641b-4561-8a4e-4b50883bfdc8"
      },
      "source": [
        "listvehicle[2000][0]"
      ],
      "execution_count": null,
      "outputs": [
        {
          "output_type": "execute_result",
          "data": {
            "application/vnd.google.colaboratory.intrinsic+json": {
              "type": "string"
            },
            "text/plain": [
              "'Lunar Silver Metallic'"
            ]
          },
          "metadata": {
            "tags": []
          },
          "execution_count": 10
        }
      ]
    },
    {
      "cell_type": "code",
      "metadata": {
        "id": "7HD_U5Aa2Jd7"
      },
      "source": [
        "titles=[]\n",
        "listprices=[]\n",
        "for i in range(0,29):\n",
        "  page=requests.get(listurl[i])\n",
        "  soup=BeautifulSoup(page.text,'html.parser')\n",
        "  \n",
        "  title=soup.select('h2.title')\n",
        "  for t in title:\n",
        "    name=t.text\n",
        "    titles.append(name)\n",
        "\n",
        "  prices=soup.select('span.primary-price')\n",
        "  for p in prices:\n",
        "    price=p.text\n",
        "    listprices.append(price)"
      ],
      "execution_count": null,
      "outputs": []
    },
    {
      "cell_type": "code",
      "metadata": {
        "colab": {
          "base_uri": "https://localhost:8080/"
        },
        "id": "xO1Os7k222DC",
        "outputId": "b0811a7a-d287-4df3-d47f-ffd09097279c"
      },
      "source": [
        "len(titles)"
      ],
      "execution_count": null,
      "outputs": [
        {
          "output_type": "execute_result",
          "data": {
            "text/plain": [
              "2880"
            ]
          },
          "metadata": {
            "tags": []
          },
          "execution_count": 12
        }
      ]
    },
    {
      "cell_type": "code",
      "metadata": {
        "colab": {
          "base_uri": "https://localhost:8080/"
        },
        "id": "pL03-iZz3ES8",
        "outputId": "8b80bc2c-487c-491e-dd49-b89a27935048"
      },
      "source": [
        "len(listprices)"
      ],
      "execution_count": null,
      "outputs": [
        {
          "output_type": "execute_result",
          "data": {
            "text/plain": [
              "2880"
            ]
          },
          "metadata": {
            "tags": []
          },
          "execution_count": 13
        }
      ]
    },
    {
      "cell_type": "markdown",
      "metadata": {
        "id": "E0RPhaCy3SoK"
      },
      "source": [
        "# Extract and list price data"
      ]
    },
    {
      "cell_type": "code",
      "metadata": {
        "id": "oUnhi4m43Xzs"
      },
      "source": [
        "def dointmile1(m):\n",
        "  listmilefinal=[]\n",
        "  for i in range(0,len(m)):\n",
        "    mileinter=m[i].replace(',','')\n",
        "    listmilefinal.append(mileinter)\n",
        "  return listmilefinal"
      ],
      "execution_count": null,
      "outputs": []
    },
    {
      "cell_type": "code",
      "metadata": {
        "id": "R1XLdgJW3bOh"
      },
      "source": [
        "def dointmile2(m):\n",
        "  listmilefinal=[]\n",
        "  for i in range(0,len(m)):\n",
        "    mileinter=m[i].replace('$','')\n",
        "    listmilefinal.append(mileinter)\n",
        "  return listmilefinal"
      ],
      "execution_count": null,
      "outputs": []
    },
    {
      "cell_type": "code",
      "metadata": {
        "id": "A-u4W5WB3cta"
      },
      "source": [
        "a=dointmile1(listprices)\n"
      ],
      "execution_count": null,
      "outputs": []
    },
    {
      "cell_type": "code",
      "metadata": {
        "id": "w5v11tbM3hu-"
      },
      "source": [
        "b=dointmile2(a)"
      ],
      "execution_count": null,
      "outputs": []
    },
    {
      "cell_type": "code",
      "metadata": {
        "colab": {
          "base_uri": "https://localhost:8080/"
        },
        "id": "bnveQNkQ3lJi",
        "outputId": "0103d723-6149-4a0d-9451-b99e5999d7a4"
      },
      "source": [
        "len(b)"
      ],
      "execution_count": null,
      "outputs": [
        {
          "output_type": "execute_result",
          "data": {
            "text/plain": [
              "2880"
            ]
          },
          "metadata": {
            "tags": []
          },
          "execution_count": 18
        }
      ]
    },
    {
      "cell_type": "code",
      "metadata": {
        "id": "7Btw0kUx3tbr"
      },
      "source": [
        "def dooint(m):\n",
        "  listintprice=[]\n",
        "  for i in range(0,len(m)):\n",
        "    if m[i] != 'Not Priced':\n",
        "      x=int(m[i])\n",
        "      listintprice.append(x)\n",
        "    else: listintprice.append('nodata')\n",
        "  return  listintprice"
      ],
      "execution_count": null,
      "outputs": []
    },
    {
      "cell_type": "code",
      "metadata": {
        "id": "GbWE6wXp33sY"
      },
      "source": [
        "c=dooint(b)"
      ],
      "execution_count": null,
      "outputs": []
    },
    {
      "cell_type": "code",
      "metadata": {
        "colab": {
          "base_uri": "https://localhost:8080/"
        },
        "id": "MF0eO3Ip34wK",
        "outputId": "27d7440b-a183-4382-9c5e-2195d8539415"
      },
      "source": [
        "len(c)"
      ],
      "execution_count": null,
      "outputs": [
        {
          "output_type": "execute_result",
          "data": {
            "text/plain": [
              "2880"
            ]
          },
          "metadata": {
            "tags": []
          },
          "execution_count": 21
        }
      ]
    },
    {
      "cell_type": "code",
      "metadata": {
        "colab": {
          "base_uri": "https://localhost:8080/"
        },
        "id": "WZmo49Yx37JZ",
        "outputId": "fd6e75ad-b740-4053-888f-8001f64e76fc"
      },
      "source": [
        "c[1900]"
      ],
      "execution_count": null,
      "outputs": [
        {
          "output_type": "execute_result",
          "data": {
            "text/plain": [
              "37500"
            ]
          },
          "metadata": {
            "tags": []
          },
          "execution_count": 22
        }
      ]
    },
    {
      "cell_type": "markdown",
      "metadata": {
        "id": "npB4BOKI4GEj"
      },
      "source": [
        "#................................................."
      ]
    },
    {
      "cell_type": "markdown",
      "metadata": {
        "id": "7Q8DL6Om4ODT"
      },
      "source": [
        "# Extract car name data"
      ]
    },
    {
      "cell_type": "code",
      "metadata": {
        "id": "jXu5eLsN4IB9"
      },
      "source": [
        "def titlee(m):\n",
        "  listtitle=[]\n",
        "  for i in range(0,len(m)):\n",
        "    line=re.findall(r'\\s(.*)',m[i])\n",
        "    listtitle.append(line)\n",
        "  return listtitle"
      ],
      "execution_count": null,
      "outputs": []
    },
    {
      "cell_type": "code",
      "metadata": {
        "id": "FF0KcTtY4Xly"
      },
      "source": [
        "namemodel=titlee(titles)"
      ],
      "execution_count": null,
      "outputs": []
    },
    {
      "cell_type": "code",
      "metadata": {
        "colab": {
          "base_uri": "https://localhost:8080/",
          "height": 34
        },
        "id": "1HWrqtf44Z3Y",
        "outputId": "95a4e31f-d3ec-404c-ecda-90fec5613a4e"
      },
      "source": [
        "namemodel[0][0]"
      ],
      "execution_count": null,
      "outputs": [
        {
          "output_type": "execute_result",
          "data": {
            "application/vnd.google.colaboratory.intrinsic+json": {
              "type": "string"
            },
            "text/plain": [
              "'Nissan Rogue SL'"
            ]
          },
          "metadata": {
            "tags": []
          },
          "execution_count": 25
        }
      ]
    },
    {
      "cell_type": "code",
      "metadata": {
        "id": "TyHKJZOH4bio"
      },
      "source": [
        "def listnamemodels(m):\n",
        "  namemodellist=[]\n",
        "  for i in range(0,len(m)):\n",
        "    namemodellist.append(m[i][0])\n",
        "  return namemodellist"
      ],
      "execution_count": null,
      "outputs": []
    },
    {
      "cell_type": "code",
      "metadata": {
        "id": "FXV888Zg4eLC"
      },
      "source": [
        "namemodellist=listnamemodels(namemodel)    #important for df"
      ],
      "execution_count": null,
      "outputs": []
    },
    {
      "cell_type": "code",
      "metadata": {
        "colab": {
          "base_uri": "https://localhost:8080/",
          "height": 34
        },
        "id": "TgHaqVma4hU4",
        "outputId": "c054007f-c4c6-4e3f-c61d-61fc3e96a5f6"
      },
      "source": [
        "namemodellist[0]"
      ],
      "execution_count": null,
      "outputs": [
        {
          "output_type": "execute_result",
          "data": {
            "application/vnd.google.colaboratory.intrinsic+json": {
              "type": "string"
            },
            "text/plain": [
              "'Nissan Rogue SL'"
            ]
          },
          "metadata": {
            "tags": []
          },
          "execution_count": 28
        }
      ]
    },
    {
      "cell_type": "code",
      "metadata": {
        "colab": {
          "base_uri": "https://localhost:8080/"
        },
        "id": "uvvzbera4oFt",
        "outputId": "77989a03-f69a-4c08-c280-7a4de197214e"
      },
      "source": [
        "len(namemodellist)"
      ],
      "execution_count": null,
      "outputs": [
        {
          "output_type": "execute_result",
          "data": {
            "text/plain": [
              "2880"
            ]
          },
          "metadata": {
            "tags": []
          },
          "execution_count": 29
        }
      ]
    },
    {
      "cell_type": "code",
      "metadata": {
        "colab": {
          "base_uri": "https://localhost:8080/",
          "height": 34
        },
        "id": "e93ECxTz45GR",
        "outputId": "c63760f7-74e9-42bb-f2c7-06dea5f95ec2"
      },
      "source": [
        "namemodellist[-1]"
      ],
      "execution_count": null,
      "outputs": [
        {
          "output_type": "execute_result",
          "data": {
            "application/vnd.google.colaboratory.intrinsic+json": {
              "type": "string"
            },
            "text/plain": [
              "'Chevrolet Silverado 1500 LTZ'"
            ]
          },
          "metadata": {
            "tags": []
          },
          "execution_count": 30
        }
      ]
    },
    {
      "cell_type": "code",
      "metadata": {
        "id": "laKZ_SJC49jR"
      },
      "source": [
        "def number(m):\n",
        "  for i in range(len(m)):\n",
        "    if m[i]=='BMW X5 xDrive35i':\n",
        "      print(i)"
      ],
      "execution_count": null,
      "outputs": []
    },
    {
      "cell_type": "code",
      "metadata": {
        "colab": {
          "base_uri": "https://localhost:8080/"
        },
        "id": "PTQWU3gM5ANJ",
        "outputId": "233d992e-815d-4b1a-9ecf-8925218bdf89"
      },
      "source": [
        "number(namemodellist)  "
      ],
      "execution_count": null,
      "outputs": [
        {
          "output_type": "stream",
          "text": [
            "101\n",
            "110\n",
            "166\n",
            "250\n",
            "283\n",
            "291\n",
            "460\n",
            "671\n",
            "816\n",
            "872\n",
            "1048\n",
            "1695\n",
            "1706\n",
            "1725\n",
            "1901\n",
            "2041\n",
            "2073\n",
            "2179\n",
            "2191\n",
            "2547\n",
            "2746\n",
            "2764\n"
          ],
          "name": "stdout"
        }
      ]
    },
    {
      "cell_type": "code",
      "metadata": {
        "colab": {
          "base_uri": "https://localhost:8080/",
          "height": 34
        },
        "id": "Y0nryLFQ5FSP",
        "outputId": "1767d61d-6d27-4729-b303-dadec1a13754"
      },
      "source": [
        "namemodellist[2071]"
      ],
      "execution_count": null,
      "outputs": [
        {
          "output_type": "execute_result",
          "data": {
            "application/vnd.google.colaboratory.intrinsic+json": {
              "type": "string"
            },
            "text/plain": [
              "'Honda CR-V EX-L'"
            ]
          },
          "metadata": {
            "tags": []
          },
          "execution_count": 35
        }
      ]
    },
    {
      "cell_type": "markdown",
      "metadata": {
        "id": "kl-oormS5NaX"
      },
      "source": [
        "#....................................................."
      ]
    },
    {
      "cell_type": "markdown",
      "metadata": {
        "id": "dRA8sPYf5P2R"
      },
      "source": [
        "# Extract car model date data"
      ]
    },
    {
      "cell_type": "code",
      "metadata": {
        "id": "l16a_NKp5b-K"
      },
      "source": [
        "def date(m):\n",
        "  listdate=[]\n",
        "  for i in range(0,len(m)):\n",
        "    line=re.findall(r'\\b(19[40][0-9]|20[0-1][0-9]|2020)\\b',m[i])\n",
        "    listdate.append(line)\n",
        "  return listdate"
      ],
      "execution_count": null,
      "outputs": []
    },
    {
      "cell_type": "code",
      "metadata": {
        "id": "nlOps32B5fX_"
      },
      "source": [
        "def doint(p):\n",
        "  lisin=[]\n",
        "  for i in range(0,len(p)-1):\n",
        "    resh=p[i][0]\n",
        "    \n",
        "    a=int(resh)\n",
        "    lisin.append(a)\n",
        "  return lisin"
      ],
      "execution_count": null,
      "outputs": []
    },
    {
      "cell_type": "code",
      "metadata": {
        "id": "QXOVt51z5hnO"
      },
      "source": [
        "datestr=date(titles)"
      ],
      "execution_count": null,
      "outputs": []
    },
    {
      "cell_type": "code",
      "metadata": {
        "colab": {
          "base_uri": "https://localhost:8080/"
        },
        "id": "eRPDq-Du5ktr",
        "outputId": "f56c9db0-ac63-42d8-d7ee-92ad18a3185b"
      },
      "source": [
        "datestr[10]"
      ],
      "execution_count": null,
      "outputs": [
        {
          "output_type": "execute_result",
          "data": {
            "text/plain": [
              "['2020']"
            ]
          },
          "metadata": {
            "tags": []
          },
          "execution_count": 40
        }
      ]
    },
    {
      "cell_type": "code",
      "metadata": {
        "colab": {
          "base_uri": "https://localhost:8080/"
        },
        "id": "0Ze1wYVg5nRO",
        "outputId": "81e83cc4-3aba-4b83-d399-a3ee05831d31"
      },
      "source": [
        "len(datestr)"
      ],
      "execution_count": null,
      "outputs": [
        {
          "output_type": "execute_result",
          "data": {
            "text/plain": [
              "2880"
            ]
          },
          "metadata": {
            "tags": []
          },
          "execution_count": 41
        }
      ]
    },
    {
      "cell_type": "code",
      "metadata": {
        "id": "ZJ_EXSCv5obA"
      },
      "source": [
        "def listdate(m):\n",
        "  datelist=[]\n",
        "  for i in range(0,len(m)):\n",
        "    datelist.append(m[i][0])\n",
        "  return datelist"
      ],
      "execution_count": null,
      "outputs": []
    },
    {
      "cell_type": "code",
      "metadata": {
        "id": "TDQ24aXb5uVf"
      },
      "source": [
        "def isnot(m):\n",
        "  for i in range(0,len(m)):\n",
        "    if not m[i]:\n",
        "      m[i].append('nodata')"
      ],
      "execution_count": null,
      "outputs": []
    },
    {
      "cell_type": "code",
      "metadata": {
        "id": "olEBoxn85x7W"
      },
      "source": [
        "isnot(datestr)"
      ],
      "execution_count": null,
      "outputs": []
    },
    {
      "cell_type": "code",
      "metadata": {
        "id": "m7VVrMqF50wF"
      },
      "source": [
        "listdate=listdate(datestr)"
      ],
      "execution_count": null,
      "outputs": []
    },
    {
      "cell_type": "code",
      "metadata": {
        "colab": {
          "base_uri": "https://localhost:8080/",
          "height": 34
        },
        "id": "ZYR80Rzh52iK",
        "outputId": "972e021b-8ca7-409a-c9f8-c49cc8bc4ddb"
      },
      "source": [
        "listdate[0]                    #important for df"
      ],
      "execution_count": null,
      "outputs": [
        {
          "output_type": "execute_result",
          "data": {
            "application/vnd.google.colaboratory.intrinsic+json": {
              "type": "string"
            },
            "text/plain": [
              "'2018'"
            ]
          },
          "metadata": {
            "tags": []
          },
          "execution_count": 53
        }
      ]
    },
    {
      "cell_type": "code",
      "metadata": {
        "colab": {
          "base_uri": "https://localhost:8080/"
        },
        "id": "hcGbTywA55do",
        "outputId": "a22355e3-d48d-488a-84c0-ac468fa43c04"
      },
      "source": [
        "len(listdate)"
      ],
      "execution_count": null,
      "outputs": [
        {
          "output_type": "execute_result",
          "data": {
            "text/plain": [
              "2880"
            ]
          },
          "metadata": {
            "tags": []
          },
          "execution_count": 54
        }
      ]
    },
    {
      "cell_type": "code",
      "metadata": {
        "colab": {
          "base_uri": "https://localhost:8080/",
          "height": 34
        },
        "id": "Z85okwOb56nm",
        "outputId": "7c96c9d0-e18d-4684-c28a-b71a2adeb619"
      },
      "source": [
        "listdate[1165]"
      ],
      "execution_count": null,
      "outputs": [
        {
          "output_type": "execute_result",
          "data": {
            "application/vnd.google.colaboratory.intrinsic+json": {
              "type": "string"
            },
            "text/plain": [
              "'2004'"
            ]
          },
          "metadata": {
            "tags": []
          },
          "execution_count": 55
        }
      ]
    },
    {
      "cell_type": "markdown",
      "metadata": {
        "id": "X7S84WPb5-3Z"
      },
      "source": [
        "#.................................................."
      ]
    },
    {
      "cell_type": "markdown",
      "metadata": {
        "id": "IVpaozl76CPm"
      },
      "source": [
        "# From now on, we will build the dataframe"
      ]
    },
    {
      "cell_type": "code",
      "metadata": {
        "id": "PwQJVzFs6BSM"
      },
      "source": [
        "#Exteriorcolor0     #Interiorcolor1    #Drivetrain2     #Fueltype3    #Transmission4   #Engine5   \n",
        "#Mileage6               #listvehicle"
      ],
      "execution_count": null,
      "outputs": []
    },
    {
      "cell_type": "markdown",
      "metadata": {
        "id": "brvaccv07XNM"
      },
      "source": [
        "# First we create the list of features"
      ]
    },
    {
      "cell_type": "code",
      "metadata": {
        "id": "POHfJwL47c-r"
      },
      "source": [
        "Exteriorcolor=[]\n",
        "Interiorcolor=[]\n",
        "Drivetrain=[]\n",
        "Fueltype=[]\n",
        "Transmission=[]\n",
        "Engine=[]\n",
        "Mileage=[]\n",
        "\n",
        "for i in range(0,len(listvehicle)):\n",
        "  Exteriorcolor.append(listvehicle[i][0])\n",
        "  Interiorcolor.append(listvehicle[i][1])\n",
        "  Drivetrain.append(listvehicle[i][2])\n",
        "  Fueltype.append(listvehicle[i][3])\n",
        "  Transmission.append(listvehicle[i][4])\n",
        "  Engine.append(listvehicle[i][5])\n",
        "  Mileage.append(listvehicle[i][6])\n",
        "\n",
        "#len(Exteriorcolor)\n",
        "#len(Mileage)"
      ],
      "execution_count": null,
      "outputs": []
    },
    {
      "cell_type": "code",
      "metadata": {
        "id": "1dbDJE0X9UNb"
      },
      "source": [
        "datas={'name':namemodellist,\"modeldate\":listdate,\"Exteriorcolor\":Exteriorcolor,\"Interiorcolor\":Interiorcolor,\"Drivetrain\":Drivetrain,\"Fueltype\":Fueltype,\"Transmission\":Transmission,\"Engine\":Engine,\"Mileage\":Mileage,'pricecar':c}"
      ],
      "execution_count": null,
      "outputs": []
    },
    {
      "cell_type": "code",
      "metadata": {
        "colab": {
          "base_uri": "https://localhost:8080/",
          "height": 412
        },
        "id": "U5ZAjlbt-Enh",
        "outputId": "3586fec6-cedc-4c2d-f0f5-925576810809"
      },
      "source": [
        "df=pd.DataFrame(datas)\n",
        "df"
      ],
      "execution_count": null,
      "outputs": [
        {
          "output_type": "execute_result",
          "data": {
            "text/html": [
              "<div>\n",
              "<style scoped>\n",
              "    .dataframe tbody tr th:only-of-type {\n",
              "        vertical-align: middle;\n",
              "    }\n",
              "\n",
              "    .dataframe tbody tr th {\n",
              "        vertical-align: top;\n",
              "    }\n",
              "\n",
              "    .dataframe thead th {\n",
              "        text-align: right;\n",
              "    }\n",
              "</style>\n",
              "<table border=\"1\" class=\"dataframe\">\n",
              "  <thead>\n",
              "    <tr style=\"text-align: right;\">\n",
              "      <th></th>\n",
              "      <th>name</th>\n",
              "      <th>modeldate</th>\n",
              "      <th>Exteriorcolor</th>\n",
              "      <th>Interiorcolor</th>\n",
              "      <th>Drivetrain</th>\n",
              "      <th>Fueltype</th>\n",
              "      <th>Transmission</th>\n",
              "      <th>Engine</th>\n",
              "      <th>Mileage</th>\n",
              "      <th>pricecar</th>\n",
              "    </tr>\n",
              "  </thead>\n",
              "  <tbody>\n",
              "    <tr>\n",
              "      <th>0</th>\n",
              "      <td>Nissan Rogue SL</td>\n",
              "      <td>2018</td>\n",
              "      <td>Caspian Blue</td>\n",
              "      <td>Charcoal Black</td>\n",
              "      <td>All-wheel Drive</td>\n",
              "      <td>nodata</td>\n",
              "      <td>Automatic CVT</td>\n",
              "      <td>2.5L I4 16V MPFI DOHC</td>\n",
              "      <td>22,097 mi.</td>\n",
              "      <td>26500</td>\n",
              "    </tr>\n",
              "    <tr>\n",
              "      <th>1</th>\n",
              "      <td>Dodge Challenger GT</td>\n",
              "      <td>2018</td>\n",
              "      <td>Billet Clearcoat</td>\n",
              "      <td>Ruby Red</td>\n",
              "      <td>AWD</td>\n",
              "      <td>nodata</td>\n",
              "      <td>8-Speed Automatic</td>\n",
              "      <td>3.6L V6 24V MPFI DOHC</td>\n",
              "      <td>29,460 mi.</td>\n",
              "      <td>31588</td>\n",
              "    </tr>\n",
              "    <tr>\n",
              "      <th>2</th>\n",
              "      <td>Honda Civic EX</td>\n",
              "      <td>2015</td>\n",
              "      <td>Silver</td>\n",
              "      <td>Black / Red</td>\n",
              "      <td>Front-wheel Drive</td>\n",
              "      <td>nodata</td>\n",
              "      <td>Automatic CVT</td>\n",
              "      <td>1.8L I4 16V MPFI SOHC</td>\n",
              "      <td>116,767 mi.</td>\n",
              "      <td>15999</td>\n",
              "    </tr>\n",
              "    <tr>\n",
              "      <th>3</th>\n",
              "      <td>BMW X5 sDrive35i</td>\n",
              "      <td>2018</td>\n",
              "      <td>Space Gray Metallic</td>\n",
              "      <td>Black</td>\n",
              "      <td>Rear-wheel Drive</td>\n",
              "      <td>nodata</td>\n",
              "      <td>8-Speed Automatic</td>\n",
              "      <td>3.0L I6 24V GDI DOHC Turbo</td>\n",
              "      <td>13,835 mi.</td>\n",
              "      <td>42985</td>\n",
              "    </tr>\n",
              "    <tr>\n",
              "      <th>4</th>\n",
              "      <td>Mercedes-Benz C-Class C 300 4MATIC</td>\n",
              "      <td>2018</td>\n",
              "      <td>Gray Metallic</td>\n",
              "      <td>Beige</td>\n",
              "      <td>All-wheel Drive</td>\n",
              "      <td>nodata</td>\n",
              "      <td>9-Speed Automatic</td>\n",
              "      <td>2.0L I4 16V GDI DOHC Turbo</td>\n",
              "      <td>24,954 mi.</td>\n",
              "      <td>27689</td>\n",
              "    </tr>\n",
              "    <tr>\n",
              "      <th>...</th>\n",
              "      <td>...</td>\n",
              "      <td>...</td>\n",
              "      <td>...</td>\n",
              "      <td>...</td>\n",
              "      <td>...</td>\n",
              "      <td>...</td>\n",
              "      <td>...</td>\n",
              "      <td>...</td>\n",
              "      <td>...</td>\n",
              "      <td>...</td>\n",
              "    </tr>\n",
              "    <tr>\n",
              "      <th>2875</th>\n",
              "      <td>Subaru Crosstrek 2.0i Premium</td>\n",
              "      <td>2018</td>\n",
              "      <td>Dark Gray Metallic</td>\n",
              "      <td>Gray</td>\n",
              "      <td>All-wheel Drive</td>\n",
              "      <td>nodata</td>\n",
              "      <td>Automatic CVT</td>\n",
              "      <td>2.0L H4 16V GDI DOHC</td>\n",
              "      <td>23,777 mi.</td>\n",
              "      <td>25350</td>\n",
              "    </tr>\n",
              "    <tr>\n",
              "      <th>2876</th>\n",
              "      <td>Honda Pilot EX-L</td>\n",
              "      <td>2019</td>\n",
              "      <td>Steel Sapphire Metallic</td>\n",
              "      <td>Gray</td>\n",
              "      <td>Front-wheel Drive</td>\n",
              "      <td>nodata</td>\n",
              "      <td>6-Speed Automatic</td>\n",
              "      <td>3.5L V6 24V GDI SOHC</td>\n",
              "      <td>44,503 mi.</td>\n",
              "      <td>33391</td>\n",
              "    </tr>\n",
              "    <tr>\n",
              "      <th>2877</th>\n",
              "      <td>Porsche Macan S</td>\n",
              "      <td>2018</td>\n",
              "      <td>Volcano Grey Metallic</td>\n",
              "      <td>Black</td>\n",
              "      <td>All-wheel Drive</td>\n",
              "      <td>nodata</td>\n",
              "      <td>7-Speed Automatic with Auto-Shift</td>\n",
              "      <td>3.0L V6 24V GDI DOHC Twin Turbo</td>\n",
              "      <td>33,348 mi.</td>\n",
              "      <td>50998</td>\n",
              "    </tr>\n",
              "    <tr>\n",
              "      <th>2878</th>\n",
              "      <td>Toyota Sienna XLE Premium</td>\n",
              "      <td>2015</td>\n",
              "      <td>Blizzard Pearl</td>\n",
              "      <td>Ash</td>\n",
              "      <td>Front-wheel Drive</td>\n",
              "      <td>nodata</td>\n",
              "      <td>6-Speed Automatic</td>\n",
              "      <td>3.5L V6 24V MPFI DOHC</td>\n",
              "      <td>80,956 mi.</td>\n",
              "      <td>23339</td>\n",
              "    </tr>\n",
              "    <tr>\n",
              "      <th>2879</th>\n",
              "      <td>Chevrolet Silverado 1500 LTZ</td>\n",
              "      <td>2018</td>\n",
              "      <td>Graphite Metallic</td>\n",
              "      <td>–</td>\n",
              "      <td>Four-wheel Drive</td>\n",
              "      <td>nodata</td>\n",
              "      <td>8-Speed Automatic</td>\n",
              "      <td>5.3L V8 16V GDI OHV</td>\n",
              "      <td>89,469 mi.</td>\n",
              "      <td>38949</td>\n",
              "    </tr>\n",
              "  </tbody>\n",
              "</table>\n",
              "<p>2880 rows × 10 columns</p>\n",
              "</div>"
            ],
            "text/plain": [
              "                                    name modeldate  ...      Mileage pricecar\n",
              "0                        Nissan Rogue SL      2018  ...   22,097 mi.    26500\n",
              "1                    Dodge Challenger GT      2018  ...   29,460 mi.    31588\n",
              "2                         Honda Civic EX      2015  ...  116,767 mi.    15999\n",
              "3                       BMW X5 sDrive35i      2018  ...   13,835 mi.    42985\n",
              "4     Mercedes-Benz C-Class C 300 4MATIC      2018  ...   24,954 mi.    27689\n",
              "...                                  ...       ...  ...          ...      ...\n",
              "2875       Subaru Crosstrek 2.0i Premium      2018  ...   23,777 mi.    25350\n",
              "2876                    Honda Pilot EX-L      2019  ...   44,503 mi.    33391\n",
              "2877                     Porsche Macan S      2018  ...   33,348 mi.    50998\n",
              "2878           Toyota Sienna XLE Premium      2015  ...   80,956 mi.    23339\n",
              "2879        Chevrolet Silverado 1500 LTZ      2018  ...   89,469 mi.    38949\n",
              "\n",
              "[2880 rows x 10 columns]"
            ]
          },
          "metadata": {
            "tags": []
          },
          "execution_count": 60
        }
      ]
    },
    {
      "cell_type": "code",
      "metadata": {
        "colab": {
          "base_uri": "https://localhost:8080/",
          "height": 171
        },
        "id": "qqSGFXtt-LWI",
        "outputId": "9fc952d6-5c38-4a5b-caf8-ed84e2a68774"
      },
      "source": [
        "df.describe()"
      ],
      "execution_count": null,
      "outputs": [
        {
          "output_type": "execute_result",
          "data": {
            "text/html": [
              "<div>\n",
              "<style scoped>\n",
              "    .dataframe tbody tr th:only-of-type {\n",
              "        vertical-align: middle;\n",
              "    }\n",
              "\n",
              "    .dataframe tbody tr th {\n",
              "        vertical-align: top;\n",
              "    }\n",
              "\n",
              "    .dataframe thead th {\n",
              "        text-align: right;\n",
              "    }\n",
              "</style>\n",
              "<table border=\"1\" class=\"dataframe\">\n",
              "  <thead>\n",
              "    <tr style=\"text-align: right;\">\n",
              "      <th></th>\n",
              "      <th>name</th>\n",
              "      <th>modeldate</th>\n",
              "      <th>Exteriorcolor</th>\n",
              "      <th>Interiorcolor</th>\n",
              "      <th>Drivetrain</th>\n",
              "      <th>Fueltype</th>\n",
              "      <th>Transmission</th>\n",
              "      <th>Engine</th>\n",
              "      <th>Mileage</th>\n",
              "      <th>pricecar</th>\n",
              "    </tr>\n",
              "  </thead>\n",
              "  <tbody>\n",
              "    <tr>\n",
              "      <th>count</th>\n",
              "      <td>2880</td>\n",
              "      <td>2880</td>\n",
              "      <td>2880</td>\n",
              "      <td>2880</td>\n",
              "      <td>2880</td>\n",
              "      <td>2880</td>\n",
              "      <td>2880</td>\n",
              "      <td>2880</td>\n",
              "      <td>2880</td>\n",
              "      <td>2880</td>\n",
              "    </tr>\n",
              "    <tr>\n",
              "      <th>unique</th>\n",
              "      <td>892</td>\n",
              "      <td>22</td>\n",
              "      <td>627</td>\n",
              "      <td>273</td>\n",
              "      <td>9</td>\n",
              "      <td>1</td>\n",
              "      <td>54</td>\n",
              "      <td>249</td>\n",
              "      <td>2822</td>\n",
              "      <td>2103</td>\n",
              "    </tr>\n",
              "    <tr>\n",
              "      <th>top</th>\n",
              "      <td>Honda CR-V EX-L</td>\n",
              "      <td>2018</td>\n",
              "      <td>Black</td>\n",
              "      <td>Black</td>\n",
              "      <td>All-wheel Drive</td>\n",
              "      <td>nodata</td>\n",
              "      <td>8-Speed Automatic</td>\n",
              "      <td>2.0L I4 16V GDI DOHC Turbo</td>\n",
              "      <td>16,714 mi.</td>\n",
              "      <td>24995</td>\n",
              "    </tr>\n",
              "    <tr>\n",
              "      <th>freq</th>\n",
              "      <td>59</td>\n",
              "      <td>987</td>\n",
              "      <td>297</td>\n",
              "      <td>1051</td>\n",
              "      <td>1245</td>\n",
              "      <td>2880</td>\n",
              "      <td>836</td>\n",
              "      <td>399</td>\n",
              "      <td>3</td>\n",
              "      <td>12</td>\n",
              "    </tr>\n",
              "  </tbody>\n",
              "</table>\n",
              "</div>"
            ],
            "text/plain": [
              "                   name modeldate  ...     Mileage pricecar\n",
              "count              2880      2880  ...        2880     2880\n",
              "unique              892        22  ...        2822     2103\n",
              "top     Honda CR-V EX-L      2018  ...  16,714 mi.    24995\n",
              "freq                 59       987  ...           3       12\n",
              "\n",
              "[4 rows x 10 columns]"
            ]
          },
          "metadata": {
            "tags": []
          },
          "execution_count": 61
        }
      ]
    },
    {
      "cell_type": "code",
      "metadata": {
        "id": "KBku78ZNCfTe",
        "colab": {
          "base_uri": "https://localhost:8080/",
          "height": 201
        },
        "outputId": "474abf56-7291-4f0b-a215-a15555bfc4b0"
      },
      "source": [
        "df.head() "
      ],
      "execution_count": null,
      "outputs": [
        {
          "output_type": "execute_result",
          "data": {
            "text/html": [
              "<div>\n",
              "<style scoped>\n",
              "    .dataframe tbody tr th:only-of-type {\n",
              "        vertical-align: middle;\n",
              "    }\n",
              "\n",
              "    .dataframe tbody tr th {\n",
              "        vertical-align: top;\n",
              "    }\n",
              "\n",
              "    .dataframe thead th {\n",
              "        text-align: right;\n",
              "    }\n",
              "</style>\n",
              "<table border=\"1\" class=\"dataframe\">\n",
              "  <thead>\n",
              "    <tr style=\"text-align: right;\">\n",
              "      <th></th>\n",
              "      <th>name</th>\n",
              "      <th>modeldate</th>\n",
              "      <th>Exteriorcolor</th>\n",
              "      <th>Interiorcolor</th>\n",
              "      <th>Drivetrain</th>\n",
              "      <th>Fueltype</th>\n",
              "      <th>Transmission</th>\n",
              "      <th>Engine</th>\n",
              "      <th>Mileage</th>\n",
              "      <th>pricecar</th>\n",
              "    </tr>\n",
              "  </thead>\n",
              "  <tbody>\n",
              "    <tr>\n",
              "      <th>0</th>\n",
              "      <td>Nissan Rogue SL</td>\n",
              "      <td>2018</td>\n",
              "      <td>Caspian Blue</td>\n",
              "      <td>Charcoal Black</td>\n",
              "      <td>All-wheel Drive</td>\n",
              "      <td>nodata</td>\n",
              "      <td>Automatic CVT</td>\n",
              "      <td>2.5L I4 16V MPFI DOHC</td>\n",
              "      <td>22,097 mi.</td>\n",
              "      <td>26500</td>\n",
              "    </tr>\n",
              "    <tr>\n",
              "      <th>1</th>\n",
              "      <td>Dodge Challenger GT</td>\n",
              "      <td>2018</td>\n",
              "      <td>Billet Clearcoat</td>\n",
              "      <td>Ruby Red</td>\n",
              "      <td>AWD</td>\n",
              "      <td>nodata</td>\n",
              "      <td>8-Speed Automatic</td>\n",
              "      <td>3.6L V6 24V MPFI DOHC</td>\n",
              "      <td>29,460 mi.</td>\n",
              "      <td>31588</td>\n",
              "    </tr>\n",
              "    <tr>\n",
              "      <th>2</th>\n",
              "      <td>Honda Civic EX</td>\n",
              "      <td>2015</td>\n",
              "      <td>Silver</td>\n",
              "      <td>Black / Red</td>\n",
              "      <td>Front-wheel Drive</td>\n",
              "      <td>nodata</td>\n",
              "      <td>Automatic CVT</td>\n",
              "      <td>1.8L I4 16V MPFI SOHC</td>\n",
              "      <td>116,767 mi.</td>\n",
              "      <td>15999</td>\n",
              "    </tr>\n",
              "    <tr>\n",
              "      <th>3</th>\n",
              "      <td>BMW X5 sDrive35i</td>\n",
              "      <td>2018</td>\n",
              "      <td>Space Gray Metallic</td>\n",
              "      <td>Black</td>\n",
              "      <td>Rear-wheel Drive</td>\n",
              "      <td>nodata</td>\n",
              "      <td>8-Speed Automatic</td>\n",
              "      <td>3.0L I6 24V GDI DOHC Turbo</td>\n",
              "      <td>13,835 mi.</td>\n",
              "      <td>42985</td>\n",
              "    </tr>\n",
              "    <tr>\n",
              "      <th>4</th>\n",
              "      <td>Mercedes-Benz C-Class C 300 4MATIC</td>\n",
              "      <td>2018</td>\n",
              "      <td>Gray Metallic</td>\n",
              "      <td>Beige</td>\n",
              "      <td>All-wheel Drive</td>\n",
              "      <td>nodata</td>\n",
              "      <td>9-Speed Automatic</td>\n",
              "      <td>2.0L I4 16V GDI DOHC Turbo</td>\n",
              "      <td>24,954 mi.</td>\n",
              "      <td>27689</td>\n",
              "    </tr>\n",
              "  </tbody>\n",
              "</table>\n",
              "</div>"
            ],
            "text/plain": [
              "                                 name modeldate  ...      Mileage pricecar\n",
              "0                     Nissan Rogue SL      2018  ...   22,097 mi.    26500\n",
              "1                 Dodge Challenger GT      2018  ...   29,460 mi.    31588\n",
              "2                      Honda Civic EX      2015  ...  116,767 mi.    15999\n",
              "3                    BMW X5 sDrive35i      2018  ...   13,835 mi.    42985\n",
              "4  Mercedes-Benz C-Class C 300 4MATIC      2018  ...   24,954 mi.    27689\n",
              "\n",
              "[5 rows x 10 columns]"
            ]
          },
          "metadata": {
            "tags": []
          },
          "execution_count": 62
        }
      ]
    },
    {
      "cell_type": "code",
      "metadata": {
        "id": "IO4Pz90vCQop",
        "colab": {
          "base_uri": "https://localhost:8080/"
        },
        "outputId": "7a2a2c79-da39-44cb-f424-825de3710a30"
      },
      "source": [
        "df.dtypes"
      ],
      "execution_count": null,
      "outputs": [
        {
          "output_type": "execute_result",
          "data": {
            "text/plain": [
              "name             object\n",
              "modeldate        object\n",
              "Exteriorcolor    object\n",
              "Interiorcolor    object\n",
              "Drivetrain       object\n",
              "Fueltype         object\n",
              "Transmission     object\n",
              "Engine           object\n",
              "Mileage          object\n",
              "pricecar         object\n",
              "dtype: object"
            ]
          },
          "metadata": {
            "tags": []
          },
          "execution_count": 63
        }
      ]
    },
    {
      "cell_type": "code",
      "metadata": {
        "id": "DvQpt8WECrnJ",
        "colab": {
          "base_uri": "https://localhost:8080/",
          "height": 201
        },
        "outputId": "d36de998-6d7a-4d9b-d5d2-c0a7c3d4262e"
      },
      "source": [
        "df.tail()"
      ],
      "execution_count": null,
      "outputs": [
        {
          "output_type": "execute_result",
          "data": {
            "text/html": [
              "<div>\n",
              "<style scoped>\n",
              "    .dataframe tbody tr th:only-of-type {\n",
              "        vertical-align: middle;\n",
              "    }\n",
              "\n",
              "    .dataframe tbody tr th {\n",
              "        vertical-align: top;\n",
              "    }\n",
              "\n",
              "    .dataframe thead th {\n",
              "        text-align: right;\n",
              "    }\n",
              "</style>\n",
              "<table border=\"1\" class=\"dataframe\">\n",
              "  <thead>\n",
              "    <tr style=\"text-align: right;\">\n",
              "      <th></th>\n",
              "      <th>name</th>\n",
              "      <th>modeldate</th>\n",
              "      <th>Exteriorcolor</th>\n",
              "      <th>Interiorcolor</th>\n",
              "      <th>Drivetrain</th>\n",
              "      <th>Fueltype</th>\n",
              "      <th>Transmission</th>\n",
              "      <th>Engine</th>\n",
              "      <th>Mileage</th>\n",
              "      <th>pricecar</th>\n",
              "    </tr>\n",
              "  </thead>\n",
              "  <tbody>\n",
              "    <tr>\n",
              "      <th>2875</th>\n",
              "      <td>Subaru Crosstrek 2.0i Premium</td>\n",
              "      <td>2018</td>\n",
              "      <td>Dark Gray Metallic</td>\n",
              "      <td>Gray</td>\n",
              "      <td>All-wheel Drive</td>\n",
              "      <td>nodata</td>\n",
              "      <td>Automatic CVT</td>\n",
              "      <td>2.0L H4 16V GDI DOHC</td>\n",
              "      <td>23,777 mi.</td>\n",
              "      <td>25350</td>\n",
              "    </tr>\n",
              "    <tr>\n",
              "      <th>2876</th>\n",
              "      <td>Honda Pilot EX-L</td>\n",
              "      <td>2019</td>\n",
              "      <td>Steel Sapphire Metallic</td>\n",
              "      <td>Gray</td>\n",
              "      <td>Front-wheel Drive</td>\n",
              "      <td>nodata</td>\n",
              "      <td>6-Speed Automatic</td>\n",
              "      <td>3.5L V6 24V GDI SOHC</td>\n",
              "      <td>44,503 mi.</td>\n",
              "      <td>33391</td>\n",
              "    </tr>\n",
              "    <tr>\n",
              "      <th>2877</th>\n",
              "      <td>Porsche Macan S</td>\n",
              "      <td>2018</td>\n",
              "      <td>Volcano Grey Metallic</td>\n",
              "      <td>Black</td>\n",
              "      <td>All-wheel Drive</td>\n",
              "      <td>nodata</td>\n",
              "      <td>7-Speed Automatic with Auto-Shift</td>\n",
              "      <td>3.0L V6 24V GDI DOHC Twin Turbo</td>\n",
              "      <td>33,348 mi.</td>\n",
              "      <td>50998</td>\n",
              "    </tr>\n",
              "    <tr>\n",
              "      <th>2878</th>\n",
              "      <td>Toyota Sienna XLE Premium</td>\n",
              "      <td>2015</td>\n",
              "      <td>Blizzard Pearl</td>\n",
              "      <td>Ash</td>\n",
              "      <td>Front-wheel Drive</td>\n",
              "      <td>nodata</td>\n",
              "      <td>6-Speed Automatic</td>\n",
              "      <td>3.5L V6 24V MPFI DOHC</td>\n",
              "      <td>80,956 mi.</td>\n",
              "      <td>23339</td>\n",
              "    </tr>\n",
              "    <tr>\n",
              "      <th>2879</th>\n",
              "      <td>Chevrolet Silverado 1500 LTZ</td>\n",
              "      <td>2018</td>\n",
              "      <td>Graphite Metallic</td>\n",
              "      <td>–</td>\n",
              "      <td>Four-wheel Drive</td>\n",
              "      <td>nodata</td>\n",
              "      <td>8-Speed Automatic</td>\n",
              "      <td>5.3L V8 16V GDI OHV</td>\n",
              "      <td>89,469 mi.</td>\n",
              "      <td>38949</td>\n",
              "    </tr>\n",
              "  </tbody>\n",
              "</table>\n",
              "</div>"
            ],
            "text/plain": [
              "                               name modeldate  ...     Mileage pricecar\n",
              "2875  Subaru Crosstrek 2.0i Premium      2018  ...  23,777 mi.    25350\n",
              "2876               Honda Pilot EX-L      2019  ...  44,503 mi.    33391\n",
              "2877                Porsche Macan S      2018  ...  33,348 mi.    50998\n",
              "2878      Toyota Sienna XLE Premium      2015  ...  80,956 mi.    23339\n",
              "2879   Chevrolet Silverado 1500 LTZ      2018  ...  89,469 mi.    38949\n",
              "\n",
              "[5 rows x 10 columns]"
            ]
          },
          "metadata": {
            "tags": []
          },
          "execution_count": 64
        }
      ]
    },
    {
      "cell_type": "code",
      "metadata": {
        "colab": {
          "base_uri": "https://localhost:8080/"
        },
        "id": "jhnTs0GqC5OB",
        "outputId": "b124d24e-42c5-4d72-c3ba-0659b495236f"
      },
      "source": [
        "df.index                                            #–"
      ],
      "execution_count": null,
      "outputs": [
        {
          "output_type": "execute_result",
          "data": {
            "text/plain": [
              "RangeIndex(start=0, stop=2880, step=1)"
            ]
          },
          "metadata": {
            "tags": []
          },
          "execution_count": 65
        }
      ]
    },
    {
      "cell_type": "code",
      "metadata": {
        "colab": {
          "base_uri": "https://localhost:8080/"
        },
        "id": "euIEJ0jZX-wf",
        "outputId": "2dbf7fda-e90c-4b34-8d38-15775a0c6bcb"
      },
      "source": [
        "df.shape"
      ],
      "execution_count": null,
      "outputs": [
        {
          "output_type": "execute_result",
          "data": {
            "text/plain": [
              "(2880, 10)"
            ]
          },
          "metadata": {
            "tags": []
          },
          "execution_count": 81
        }
      ]
    },
    {
      "cell_type": "code",
      "metadata": {
        "colab": {
          "base_uri": "https://localhost:8080/"
        },
        "id": "qaCZGTcHYKhD",
        "outputId": "9bbf1cbf-a340-4ca6-b666-1c20c3d2e569"
      },
      "source": [
        "df.info()"
      ],
      "execution_count": null,
      "outputs": [
        {
          "output_type": "stream",
          "text": [
            "<class 'pandas.core.frame.DataFrame'>\n",
            "RangeIndex: 2880 entries, 0 to 2879\n",
            "Data columns (total 10 columns):\n",
            " #   Column         Non-Null Count  Dtype \n",
            "---  ------         --------------  ----- \n",
            " 0   name           2880 non-null   object\n",
            " 1   modeldate      2880 non-null   object\n",
            " 2   Exteriorcolor  2880 non-null   object\n",
            " 3   Interiorcolor  2880 non-null   object\n",
            " 4   Drivetrain     2880 non-null   object\n",
            " 5   Fueltype       2880 non-null   object\n",
            " 6   Transmission   2880 non-null   object\n",
            " 7   Engine         2880 non-null   object\n",
            " 8   Mileage        2880 non-null   object\n",
            " 9   pricecar       2880 non-null   object\n",
            "dtypes: object(10)\n",
            "memory usage: 225.1+ KB\n"
          ],
          "name": "stdout"
        }
      ]
    },
    {
      "cell_type": "code",
      "metadata": {
        "colab": {
          "base_uri": "https://localhost:8080/"
        },
        "id": "Vy3gTFJukAVA",
        "outputId": "6403cf39-b51b-416c-a49a-dd56f9808cae"
      },
      "source": [
        "type(df['pricecar'])"
      ],
      "execution_count": null,
      "outputs": [
        {
          "output_type": "execute_result",
          "data": {
            "text/plain": [
              "pandas.core.series.Series"
            ]
          },
          "metadata": {
            "tags": []
          },
          "execution_count": 106
        }
      ]
    },
    {
      "cell_type": "code",
      "metadata": {
        "id": "RD8pKDv3fPfu"
      },
      "source": [
        "listpricecode=[]\n",
        "for i in range(0,len(df['pricecar'])):\n",
        "  if df['pricecar'][i] == 'nodata':\n",
        "    listpricecode.append('nodata')\n",
        "\n",
        "  elif 0 < (df['pricecar'][i]) <= 25000:\n",
        "    listpricecode.append('it is inrange(0,25000)')\n",
        "\n",
        "  elif 25000<df['pricecar'][i]<=50000:\n",
        "    listpricecode.append('it is inrange(25000,50000)')\n",
        "\n",
        "  elif 50000<df['pricecar'][i]<=75000:\n",
        "    listpricecode.append('it is inrange(50000,75000)')\n",
        "\n",
        "  elif 75000<df['pricecar'][i]<=100000:\n",
        "    listpricecode.append('it is inrange(75000,100000)')\n",
        "\n",
        "  elif 100000<df['pricecar'][i]<=125000:\n",
        "    listpricecode.append('it is inrange(100000,125000)')\n",
        "\n",
        "  elif 125000<df['pricecar'][i]<=150000:\n",
        "    listpricecode.append('it is inrange(125000,150000)')\n",
        "\n",
        "  elif 150000<df['pricecar'][i]<=175000:\n",
        "    listpricecode.append('it is inrange(150000,175000)')\n",
        "\n",
        "  elif 175000<df['pricecar'][i]<=200000:\n",
        "    listpricecode.append('it is inrange(175000,200000)')\n",
        "\n",
        "  elif 200000<df['pricecar'][i]<=225000:\n",
        "    listpricecode.append('it is inrange(200000,225000)')\n",
        "\n",
        "  elif 225000<df['pricecar'][i]<=250000:\n",
        "    listpricecode.append('it is inrange(225000,250000)')\n",
        "\n",
        "  elif 250000<df['pricecar'][i]<=275000:\n",
        "    listpricecode.append('it is inrange(250000,275000)')\n",
        "\n",
        "  elif 275000<df['pricecar'][i]<=300000:\n",
        "    listpricecode.append('it is inrange(275000,300000)')\n",
        "\n",
        "  elif 300000<df['pricecar'][i]<=325000:\n",
        "    listpricecode.append('it is inrange(300000,325000)')\n",
        "\n",
        "  elif 325000<df['pricecar'][i]<=350000:\n",
        "    listpricecode.append('it is inrange(325000,350000)')\n",
        "\n",
        "  elif 350000<df['pricecar'][i]<=375000:\n",
        "    listpricecode.append('it is inrange(350000,375000)')\n",
        "\n",
        "  elif 375000<df['pricecar'][i]<=400000:\n",
        "    listpricecode.append('it is inrange(375000,400000)')\n",
        "\n",
        "  elif df['pricecar'][i]>400000:\n",
        "    listpricecode.append('it is more then 400000$')\n",
        "  \n",
        "  elif df['pricecar'][i] == 'nodata':\n",
        "    listpricecode.append('nodata')"
      ],
      "execution_count": null,
      "outputs": []
    },
    {
      "cell_type": "code",
      "metadata": {
        "id": "WENuR31GmEJL"
      },
      "source": [
        "datas1={'name':namemodellist,\"modeldate\":listdate,\"Exteriorcolor\":Exteriorcolor,\"Interiorcolor\":Interiorcolor,\"Drivetrain\":Drivetrain,\"Fueltype\":Fueltype,\"Transmission\":Transmission,\"Engine\":Engine,\"Mileage\":Mileage,'listpricecode':listpricecode}"
      ],
      "execution_count": null,
      "outputs": []
    },
    {
      "cell_type": "code",
      "metadata": {
        "colab": {
          "base_uri": "https://localhost:8080/",
          "height": 412
        },
        "id": "eCjJFLWLmNN1",
        "outputId": "02492c82-bca3-423b-ac1f-c9c77584544a"
      },
      "source": [
        "df1=pd.DataFrame(datas1)\n",
        "df1"
      ],
      "execution_count": null,
      "outputs": [
        {
          "output_type": "execute_result",
          "data": {
            "text/html": [
              "<div>\n",
              "<style scoped>\n",
              "    .dataframe tbody tr th:only-of-type {\n",
              "        vertical-align: middle;\n",
              "    }\n",
              "\n",
              "    .dataframe tbody tr th {\n",
              "        vertical-align: top;\n",
              "    }\n",
              "\n",
              "    .dataframe thead th {\n",
              "        text-align: right;\n",
              "    }\n",
              "</style>\n",
              "<table border=\"1\" class=\"dataframe\">\n",
              "  <thead>\n",
              "    <tr style=\"text-align: right;\">\n",
              "      <th></th>\n",
              "      <th>name</th>\n",
              "      <th>modeldate</th>\n",
              "      <th>Exteriorcolor</th>\n",
              "      <th>Interiorcolor</th>\n",
              "      <th>Drivetrain</th>\n",
              "      <th>Fueltype</th>\n",
              "      <th>Transmission</th>\n",
              "      <th>Engine</th>\n",
              "      <th>Mileage</th>\n",
              "      <th>listpricecode</th>\n",
              "    </tr>\n",
              "  </thead>\n",
              "  <tbody>\n",
              "    <tr>\n",
              "      <th>0</th>\n",
              "      <td>Nissan Rogue SL</td>\n",
              "      <td>2018</td>\n",
              "      <td>Caspian Blue</td>\n",
              "      <td>Charcoal Black</td>\n",
              "      <td>All-wheel Drive</td>\n",
              "      <td>nodata</td>\n",
              "      <td>Automatic CVT</td>\n",
              "      <td>2.5L I4 16V MPFI DOHC</td>\n",
              "      <td>22,097 mi.</td>\n",
              "      <td>it is inrange(25000,50000)</td>\n",
              "    </tr>\n",
              "    <tr>\n",
              "      <th>1</th>\n",
              "      <td>Dodge Challenger GT</td>\n",
              "      <td>2018</td>\n",
              "      <td>Billet Clearcoat</td>\n",
              "      <td>Ruby Red</td>\n",
              "      <td>AWD</td>\n",
              "      <td>nodata</td>\n",
              "      <td>8-Speed Automatic</td>\n",
              "      <td>3.6L V6 24V MPFI DOHC</td>\n",
              "      <td>29,460 mi.</td>\n",
              "      <td>it is inrange(25000,50000)</td>\n",
              "    </tr>\n",
              "    <tr>\n",
              "      <th>2</th>\n",
              "      <td>Honda Civic EX</td>\n",
              "      <td>2015</td>\n",
              "      <td>Silver</td>\n",
              "      <td>Black / Red</td>\n",
              "      <td>Front-wheel Drive</td>\n",
              "      <td>nodata</td>\n",
              "      <td>Automatic CVT</td>\n",
              "      <td>1.8L I4 16V MPFI SOHC</td>\n",
              "      <td>116,767 mi.</td>\n",
              "      <td>it is inrange(0,25000)</td>\n",
              "    </tr>\n",
              "    <tr>\n",
              "      <th>3</th>\n",
              "      <td>BMW X5 sDrive35i</td>\n",
              "      <td>2018</td>\n",
              "      <td>Space Gray Metallic</td>\n",
              "      <td>Black</td>\n",
              "      <td>Rear-wheel Drive</td>\n",
              "      <td>nodata</td>\n",
              "      <td>8-Speed Automatic</td>\n",
              "      <td>3.0L I6 24V GDI DOHC Turbo</td>\n",
              "      <td>13,835 mi.</td>\n",
              "      <td>it is inrange(25000,50000)</td>\n",
              "    </tr>\n",
              "    <tr>\n",
              "      <th>4</th>\n",
              "      <td>Mercedes-Benz C-Class C 300 4MATIC</td>\n",
              "      <td>2018</td>\n",
              "      <td>Gray Metallic</td>\n",
              "      <td>Beige</td>\n",
              "      <td>All-wheel Drive</td>\n",
              "      <td>nodata</td>\n",
              "      <td>9-Speed Automatic</td>\n",
              "      <td>2.0L I4 16V GDI DOHC Turbo</td>\n",
              "      <td>24,954 mi.</td>\n",
              "      <td>it is inrange(25000,50000)</td>\n",
              "    </tr>\n",
              "    <tr>\n",
              "      <th>...</th>\n",
              "      <td>...</td>\n",
              "      <td>...</td>\n",
              "      <td>...</td>\n",
              "      <td>...</td>\n",
              "      <td>...</td>\n",
              "      <td>...</td>\n",
              "      <td>...</td>\n",
              "      <td>...</td>\n",
              "      <td>...</td>\n",
              "      <td>...</td>\n",
              "    </tr>\n",
              "    <tr>\n",
              "      <th>2875</th>\n",
              "      <td>Subaru Crosstrek 2.0i Premium</td>\n",
              "      <td>2018</td>\n",
              "      <td>Dark Gray Metallic</td>\n",
              "      <td>Gray</td>\n",
              "      <td>All-wheel Drive</td>\n",
              "      <td>nodata</td>\n",
              "      <td>Automatic CVT</td>\n",
              "      <td>2.0L H4 16V GDI DOHC</td>\n",
              "      <td>23,777 mi.</td>\n",
              "      <td>it is inrange(25000,50000)</td>\n",
              "    </tr>\n",
              "    <tr>\n",
              "      <th>2876</th>\n",
              "      <td>Honda Pilot EX-L</td>\n",
              "      <td>2019</td>\n",
              "      <td>Steel Sapphire Metallic</td>\n",
              "      <td>Gray</td>\n",
              "      <td>Front-wheel Drive</td>\n",
              "      <td>nodata</td>\n",
              "      <td>6-Speed Automatic</td>\n",
              "      <td>3.5L V6 24V GDI SOHC</td>\n",
              "      <td>44,503 mi.</td>\n",
              "      <td>it is inrange(25000,50000)</td>\n",
              "    </tr>\n",
              "    <tr>\n",
              "      <th>2877</th>\n",
              "      <td>Porsche Macan S</td>\n",
              "      <td>2018</td>\n",
              "      <td>Volcano Grey Metallic</td>\n",
              "      <td>Black</td>\n",
              "      <td>All-wheel Drive</td>\n",
              "      <td>nodata</td>\n",
              "      <td>7-Speed Automatic with Auto-Shift</td>\n",
              "      <td>3.0L V6 24V GDI DOHC Twin Turbo</td>\n",
              "      <td>33,348 mi.</td>\n",
              "      <td>it is inrange(50000,75000)</td>\n",
              "    </tr>\n",
              "    <tr>\n",
              "      <th>2878</th>\n",
              "      <td>Toyota Sienna XLE Premium</td>\n",
              "      <td>2015</td>\n",
              "      <td>Blizzard Pearl</td>\n",
              "      <td>Ash</td>\n",
              "      <td>Front-wheel Drive</td>\n",
              "      <td>nodata</td>\n",
              "      <td>6-Speed Automatic</td>\n",
              "      <td>3.5L V6 24V MPFI DOHC</td>\n",
              "      <td>80,956 mi.</td>\n",
              "      <td>it is inrange(0,25000)</td>\n",
              "    </tr>\n",
              "    <tr>\n",
              "      <th>2879</th>\n",
              "      <td>Chevrolet Silverado 1500 LTZ</td>\n",
              "      <td>2018</td>\n",
              "      <td>Graphite Metallic</td>\n",
              "      <td>–</td>\n",
              "      <td>Four-wheel Drive</td>\n",
              "      <td>nodata</td>\n",
              "      <td>8-Speed Automatic</td>\n",
              "      <td>5.3L V8 16V GDI OHV</td>\n",
              "      <td>89,469 mi.</td>\n",
              "      <td>it is inrange(25000,50000)</td>\n",
              "    </tr>\n",
              "  </tbody>\n",
              "</table>\n",
              "<p>2880 rows × 10 columns</p>\n",
              "</div>"
            ],
            "text/plain": [
              "                                    name  ...               listpricecode\n",
              "0                        Nissan Rogue SL  ...  it is inrange(25000,50000)\n",
              "1                    Dodge Challenger GT  ...  it is inrange(25000,50000)\n",
              "2                         Honda Civic EX  ...      it is inrange(0,25000)\n",
              "3                       BMW X5 sDrive35i  ...  it is inrange(25000,50000)\n",
              "4     Mercedes-Benz C-Class C 300 4MATIC  ...  it is inrange(25000,50000)\n",
              "...                                  ...  ...                         ...\n",
              "2875       Subaru Crosstrek 2.0i Premium  ...  it is inrange(25000,50000)\n",
              "2876                    Honda Pilot EX-L  ...  it is inrange(25000,50000)\n",
              "2877                     Porsche Macan S  ...  it is inrange(50000,75000)\n",
              "2878           Toyota Sienna XLE Premium  ...      it is inrange(0,25000)\n",
              "2879        Chevrolet Silverado 1500 LTZ  ...  it is inrange(25000,50000)\n",
              "\n",
              "[2880 rows x 10 columns]"
            ]
          },
          "metadata": {
            "tags": []
          },
          "execution_count": 119
        }
      ]
    },
    {
      "cell_type": "code",
      "metadata": {
        "id": "zgFIoSPOl3kN"
      },
      "source": [
        "listpricecode"
      ],
      "execution_count": null,
      "outputs": []
    },
    {
      "cell_type": "code",
      "metadata": {
        "colab": {
          "base_uri": "https://localhost:8080/",
          "height": 201
        },
        "id": "SiQC7U1IYVbH",
        "outputId": "36e83bec-9eb3-4b00-a385-2045e16a2fe0"
      },
      "source": [
        "dfedited = df1.drop(['Fueltype'] , axis=1)\n",
        "dfedited.head()"
      ],
      "execution_count": null,
      "outputs": [
        {
          "output_type": "execute_result",
          "data": {
            "text/html": [
              "<div>\n",
              "<style scoped>\n",
              "    .dataframe tbody tr th:only-of-type {\n",
              "        vertical-align: middle;\n",
              "    }\n",
              "\n",
              "    .dataframe tbody tr th {\n",
              "        vertical-align: top;\n",
              "    }\n",
              "\n",
              "    .dataframe thead th {\n",
              "        text-align: right;\n",
              "    }\n",
              "</style>\n",
              "<table border=\"1\" class=\"dataframe\">\n",
              "  <thead>\n",
              "    <tr style=\"text-align: right;\">\n",
              "      <th></th>\n",
              "      <th>name</th>\n",
              "      <th>modeldate</th>\n",
              "      <th>Exteriorcolor</th>\n",
              "      <th>Interiorcolor</th>\n",
              "      <th>Drivetrain</th>\n",
              "      <th>Transmission</th>\n",
              "      <th>Engine</th>\n",
              "      <th>Mileage</th>\n",
              "      <th>listpricecode</th>\n",
              "    </tr>\n",
              "  </thead>\n",
              "  <tbody>\n",
              "    <tr>\n",
              "      <th>0</th>\n",
              "      <td>Nissan Rogue SL</td>\n",
              "      <td>2018</td>\n",
              "      <td>Caspian Blue</td>\n",
              "      <td>Charcoal Black</td>\n",
              "      <td>All-wheel Drive</td>\n",
              "      <td>Automatic CVT</td>\n",
              "      <td>2.5L I4 16V MPFI DOHC</td>\n",
              "      <td>22,097 mi.</td>\n",
              "      <td>it is inrange(25000,50000)</td>\n",
              "    </tr>\n",
              "    <tr>\n",
              "      <th>1</th>\n",
              "      <td>Dodge Challenger GT</td>\n",
              "      <td>2018</td>\n",
              "      <td>Billet Clearcoat</td>\n",
              "      <td>Ruby Red</td>\n",
              "      <td>AWD</td>\n",
              "      <td>8-Speed Automatic</td>\n",
              "      <td>3.6L V6 24V MPFI DOHC</td>\n",
              "      <td>29,460 mi.</td>\n",
              "      <td>it is inrange(25000,50000)</td>\n",
              "    </tr>\n",
              "    <tr>\n",
              "      <th>2</th>\n",
              "      <td>Honda Civic EX</td>\n",
              "      <td>2015</td>\n",
              "      <td>Silver</td>\n",
              "      <td>Black / Red</td>\n",
              "      <td>Front-wheel Drive</td>\n",
              "      <td>Automatic CVT</td>\n",
              "      <td>1.8L I4 16V MPFI SOHC</td>\n",
              "      <td>116,767 mi.</td>\n",
              "      <td>it is inrange(0,25000)</td>\n",
              "    </tr>\n",
              "    <tr>\n",
              "      <th>3</th>\n",
              "      <td>BMW X5 sDrive35i</td>\n",
              "      <td>2018</td>\n",
              "      <td>Space Gray Metallic</td>\n",
              "      <td>Black</td>\n",
              "      <td>Rear-wheel Drive</td>\n",
              "      <td>8-Speed Automatic</td>\n",
              "      <td>3.0L I6 24V GDI DOHC Turbo</td>\n",
              "      <td>13,835 mi.</td>\n",
              "      <td>it is inrange(25000,50000)</td>\n",
              "    </tr>\n",
              "    <tr>\n",
              "      <th>4</th>\n",
              "      <td>Mercedes-Benz C-Class C 300 4MATIC</td>\n",
              "      <td>2018</td>\n",
              "      <td>Gray Metallic</td>\n",
              "      <td>Beige</td>\n",
              "      <td>All-wheel Drive</td>\n",
              "      <td>9-Speed Automatic</td>\n",
              "      <td>2.0L I4 16V GDI DOHC Turbo</td>\n",
              "      <td>24,954 mi.</td>\n",
              "      <td>it is inrange(25000,50000)</td>\n",
              "    </tr>\n",
              "  </tbody>\n",
              "</table>\n",
              "</div>"
            ],
            "text/plain": [
              "                                 name  ...               listpricecode\n",
              "0                     Nissan Rogue SL  ...  it is inrange(25000,50000)\n",
              "1                 Dodge Challenger GT  ...  it is inrange(25000,50000)\n",
              "2                      Honda Civic EX  ...      it is inrange(0,25000)\n",
              "3                    BMW X5 sDrive35i  ...  it is inrange(25000,50000)\n",
              "4  Mercedes-Benz C-Class C 300 4MATIC  ...  it is inrange(25000,50000)\n",
              "\n",
              "[5 rows x 9 columns]"
            ]
          },
          "metadata": {
            "tags": []
          },
          "execution_count": 138
        }
      ]
    },
    {
      "cell_type": "code",
      "metadata": {
        "id": "4tJsgp-PYp7W"
      },
      "source": [
        "for col in dfedited.columns :\n",
        "  print(col , \":\" , dfedited [col].unique())\n",
        "  print()"
      ],
      "execution_count": null,
      "outputs": []
    },
    {
      "cell_type": "code",
      "metadata": {
        "colab": {
          "base_uri": "https://localhost:8080/",
          "height": 171
        },
        "id": "eX-5Gu4dZZN4",
        "outputId": "0cd0cd8b-8188-4ee3-87cb-25b3cde8cb37"
      },
      "source": [
        "dfedited.describe()"
      ],
      "execution_count": null,
      "outputs": [
        {
          "output_type": "execute_result",
          "data": {
            "text/html": [
              "<div>\n",
              "<style scoped>\n",
              "    .dataframe tbody tr th:only-of-type {\n",
              "        vertical-align: middle;\n",
              "    }\n",
              "\n",
              "    .dataframe tbody tr th {\n",
              "        vertical-align: top;\n",
              "    }\n",
              "\n",
              "    .dataframe thead th {\n",
              "        text-align: right;\n",
              "    }\n",
              "</style>\n",
              "<table border=\"1\" class=\"dataframe\">\n",
              "  <thead>\n",
              "    <tr style=\"text-align: right;\">\n",
              "      <th></th>\n",
              "      <th>name</th>\n",
              "      <th>modeldate</th>\n",
              "      <th>Exteriorcolor</th>\n",
              "      <th>Interiorcolor</th>\n",
              "      <th>Drivetrain</th>\n",
              "      <th>Transmission</th>\n",
              "      <th>Engine</th>\n",
              "      <th>Mileage</th>\n",
              "      <th>listpricecode</th>\n",
              "    </tr>\n",
              "  </thead>\n",
              "  <tbody>\n",
              "    <tr>\n",
              "      <th>count</th>\n",
              "      <td>2880</td>\n",
              "      <td>2880</td>\n",
              "      <td>2880</td>\n",
              "      <td>2880</td>\n",
              "      <td>2880</td>\n",
              "      <td>2880</td>\n",
              "      <td>2880</td>\n",
              "      <td>2880</td>\n",
              "      <td>2880</td>\n",
              "    </tr>\n",
              "    <tr>\n",
              "      <th>unique</th>\n",
              "      <td>892</td>\n",
              "      <td>22</td>\n",
              "      <td>627</td>\n",
              "      <td>273</td>\n",
              "      <td>9</td>\n",
              "      <td>54</td>\n",
              "      <td>249</td>\n",
              "      <td>2822</td>\n",
              "      <td>14</td>\n",
              "    </tr>\n",
              "    <tr>\n",
              "      <th>top</th>\n",
              "      <td>Honda CR-V EX-L</td>\n",
              "      <td>2018</td>\n",
              "      <td>Black</td>\n",
              "      <td>Black</td>\n",
              "      <td>All-wheel Drive</td>\n",
              "      <td>8-Speed Automatic</td>\n",
              "      <td>2.0L I4 16V GDI DOHC Turbo</td>\n",
              "      <td>16,714 mi.</td>\n",
              "      <td>it is inrange(25000,50000)</td>\n",
              "    </tr>\n",
              "    <tr>\n",
              "      <th>freq</th>\n",
              "      <td>59</td>\n",
              "      <td>987</td>\n",
              "      <td>297</td>\n",
              "      <td>1051</td>\n",
              "      <td>1245</td>\n",
              "      <td>836</td>\n",
              "      <td>399</td>\n",
              "      <td>3</td>\n",
              "      <td>1642</td>\n",
              "    </tr>\n",
              "  </tbody>\n",
              "</table>\n",
              "</div>"
            ],
            "text/plain": [
              "                   name modeldate  ...     Mileage               listpricecode\n",
              "count              2880      2880  ...        2880                        2880\n",
              "unique              892        22  ...        2822                          14\n",
              "top     Honda CR-V EX-L      2018  ...  16,714 mi.  it is inrange(25000,50000)\n",
              "freq                 59       987  ...           3                        1642\n",
              "\n",
              "[4 rows x 9 columns]"
            ]
          },
          "metadata": {
            "tags": []
          },
          "execution_count": 139
        }
      ]
    },
    {
      "cell_type": "code",
      "metadata": {
        "colab": {
          "base_uri": "https://localhost:8080/"
        },
        "id": "5xYFy7uPZ2HR",
        "outputId": "aa53bc09-f66d-4840-9998-bec0b485dbf4"
      },
      "source": [
        "dfedited.isna().sum()"
      ],
      "execution_count": null,
      "outputs": [
        {
          "output_type": "execute_result",
          "data": {
            "text/plain": [
              "name             0\n",
              "modeldate        0\n",
              "Exteriorcolor    0\n",
              "Interiorcolor    0\n",
              "Drivetrain       0\n",
              "Transmission     0\n",
              "Engine           0\n",
              "Mileage          0\n",
              "listpricecode    0\n",
              "dtype: int64"
            ]
          },
          "metadata": {
            "tags": []
          },
          "execution_count": 140
        }
      ]
    },
    {
      "cell_type": "code",
      "metadata": {
        "colab": {
          "base_uri": "https://localhost:8080/",
          "height": 333
        },
        "id": "vutQVRFIatfV",
        "outputId": "5b36b237-6814-4ce8-d912-7104f3d8fd95"
      },
      "source": [
        "# Use LabelEncoder function frome sklearn \n",
        "categorical_columns = ['Exteriorcolor' , 'Interiorcolor','Drivetrain','Transmission','Engine','Mileage' ]\n",
        "\n",
        "from sklearn.preprocessing import LabelEncoder\n",
        "le = LabelEncoder()\n",
        "dfedited[categorical_columns] = dfedited[categorical_columns].apply(lambda col : le.fit_transform (col))\n",
        "dfedited.head()"
      ],
      "execution_count": null,
      "outputs": [
        {
          "output_type": "execute_result",
          "data": {
            "text/html": [
              "<div>\n",
              "<style scoped>\n",
              "    .dataframe tbody tr th:only-of-type {\n",
              "        vertical-align: middle;\n",
              "    }\n",
              "\n",
              "    .dataframe tbody tr th {\n",
              "        vertical-align: top;\n",
              "    }\n",
              "\n",
              "    .dataframe thead th {\n",
              "        text-align: right;\n",
              "    }\n",
              "</style>\n",
              "<table border=\"1\" class=\"dataframe\">\n",
              "  <thead>\n",
              "    <tr style=\"text-align: right;\">\n",
              "      <th></th>\n",
              "      <th>name</th>\n",
              "      <th>modeldate</th>\n",
              "      <th>Exteriorcolor</th>\n",
              "      <th>Interiorcolor</th>\n",
              "      <th>Drivetrain</th>\n",
              "      <th>Transmission</th>\n",
              "      <th>Engine</th>\n",
              "      <th>Mileage</th>\n",
              "      <th>listpricecode</th>\n",
              "    </tr>\n",
              "  </thead>\n",
              "  <tbody>\n",
              "    <tr>\n",
              "      <th>0</th>\n",
              "      <td>Nissan Rogue SL</td>\n",
              "      <td>2018</td>\n",
              "      <td>112</td>\n",
              "      <td>68</td>\n",
              "      <td>2</td>\n",
              "      <td>40</td>\n",
              "      <td>49</td>\n",
              "      <td>1036</td>\n",
              "      <td>it is inrange(25000,50000)</td>\n",
              "    </tr>\n",
              "    <tr>\n",
              "      <th>1</th>\n",
              "      <td>Dodge Challenger GT</td>\n",
              "      <td>2018</td>\n",
              "      <td>36</td>\n",
              "      <td>220</td>\n",
              "      <td>1</td>\n",
              "      <td>30</td>\n",
              "      <td>109</td>\n",
              "      <td>1371</td>\n",
              "      <td>it is inrange(25000,50000)</td>\n",
              "    </tr>\n",
              "    <tr>\n",
              "      <th>2</th>\n",
              "      <td>Honda Civic EX</td>\n",
              "      <td>2015</td>\n",
              "      <td>508</td>\n",
              "      <td>34</td>\n",
              "      <td>5</td>\n",
              "      <td>40</td>\n",
              "      <td>15</td>\n",
              "      <td>190</td>\n",
              "      <td>it is inrange(0,25000)</td>\n",
              "    </tr>\n",
              "    <tr>\n",
              "      <th>3</th>\n",
              "      <td>BMW X5 sDrive35i</td>\n",
              "      <td>2018</td>\n",
              "      <td>541</td>\n",
              "      <td>26</td>\n",
              "      <td>7</td>\n",
              "      <td>30</td>\n",
              "      <td>68</td>\n",
              "      <td>360</td>\n",
              "      <td>it is inrange(25000,50000)</td>\n",
              "    </tr>\n",
              "    <tr>\n",
              "      <th>4</th>\n",
              "      <td>Mercedes-Benz C-Class C 300 4MATIC</td>\n",
              "      <td>2018</td>\n",
              "      <td>252</td>\n",
              "      <td>20</td>\n",
              "      <td>2</td>\n",
              "      <td>36</td>\n",
              "      <td>25</td>\n",
              "      <td>1169</td>\n",
              "      <td>it is inrange(25000,50000)</td>\n",
              "    </tr>\n",
              "  </tbody>\n",
              "</table>\n",
              "</div>"
            ],
            "text/plain": [
              "                                 name  ...               listpricecode\n",
              "0                     Nissan Rogue SL  ...  it is inrange(25000,50000)\n",
              "1                 Dodge Challenger GT  ...  it is inrange(25000,50000)\n",
              "2                      Honda Civic EX  ...      it is inrange(0,25000)\n",
              "3                    BMW X5 sDrive35i  ...  it is inrange(25000,50000)\n",
              "4  Mercedes-Benz C-Class C 300 4MATIC  ...  it is inrange(25000,50000)\n",
              "\n",
              "[5 rows x 9 columns]"
            ]
          },
          "metadata": {
            "tags": []
          },
          "execution_count": 141
        }
      ]
    },
    {
      "cell_type": "code",
      "metadata": {
        "id": "O4A1JYuSm42Y"
      },
      "source": [
        "X = dfedited.drop('listpricecode' , axis=1)\n",
        "Y = dfedited ['listpricecode']"
      ],
      "execution_count": null,
      "outputs": []
    },
    {
      "cell_type": "code",
      "metadata": {
        "colab": {
          "base_uri": "https://localhost:8080/"
        },
        "id": "ApQ4pG8SoMjk",
        "outputId": "7e9fc810-9b92-4e54-8221-7aa6080405ad"
      },
      "source": [
        "from sklearn.preprocessing import OrdinalEncoder \n",
        "oe = OrdinalEncoder()\n",
        "dfedited_array = oe.fit_transform (X)\n",
        "dfedited_array"
      ],
      "execution_count": null,
      "outputs": [
        {
          "output_type": "execute_result",
          "data": {
            "text/plain": [
              "array([[ 699.,   18.,  112., ...,   40.,   49., 1036.],\n",
              "       [ 264.,   18.,   36., ...,   30.,  109., 1371.],\n",
              "       [ 386.,   15.,  508., ...,   40.,   15.,  190.],\n",
              "       ...,\n",
              "       [ 726.,   18.,  596., ...,   24.,   78., 1600.],\n",
              "       [ 834.,   15.,   61., ...,   12.,   95., 2619.],\n",
              "       [ 235.,   18.,  248., ...,   30.,  161., 2738.]])"
            ]
          },
          "metadata": {
            "tags": []
          },
          "execution_count": 143
        }
      ]
    },
    {
      "cell_type": "code",
      "metadata": {
        "colab": {
          "base_uri": "https://localhost:8080/",
          "height": 412
        },
        "id": "N-Sb7YSpofN9",
        "outputId": "d8e97e20-b39e-4ce1-bb31-0521f71b2c45"
      },
      "source": [
        "dfedited_encoded = pd.DataFrame(dfedited_array , columns = X.columns)\n",
        "dfedited_encoded"
      ],
      "execution_count": null,
      "outputs": [
        {
          "output_type": "execute_result",
          "data": {
            "text/html": [
              "<div>\n",
              "<style scoped>\n",
              "    .dataframe tbody tr th:only-of-type {\n",
              "        vertical-align: middle;\n",
              "    }\n",
              "\n",
              "    .dataframe tbody tr th {\n",
              "        vertical-align: top;\n",
              "    }\n",
              "\n",
              "    .dataframe thead th {\n",
              "        text-align: right;\n",
              "    }\n",
              "</style>\n",
              "<table border=\"1\" class=\"dataframe\">\n",
              "  <thead>\n",
              "    <tr style=\"text-align: right;\">\n",
              "      <th></th>\n",
              "      <th>name</th>\n",
              "      <th>modeldate</th>\n",
              "      <th>Exteriorcolor</th>\n",
              "      <th>Interiorcolor</th>\n",
              "      <th>Drivetrain</th>\n",
              "      <th>Transmission</th>\n",
              "      <th>Engine</th>\n",
              "      <th>Mileage</th>\n",
              "    </tr>\n",
              "  </thead>\n",
              "  <tbody>\n",
              "    <tr>\n",
              "      <th>0</th>\n",
              "      <td>699.0</td>\n",
              "      <td>18.0</td>\n",
              "      <td>112.0</td>\n",
              "      <td>68.0</td>\n",
              "      <td>2.0</td>\n",
              "      <td>40.0</td>\n",
              "      <td>49.0</td>\n",
              "      <td>1036.0</td>\n",
              "    </tr>\n",
              "    <tr>\n",
              "      <th>1</th>\n",
              "      <td>264.0</td>\n",
              "      <td>18.0</td>\n",
              "      <td>36.0</td>\n",
              "      <td>220.0</td>\n",
              "      <td>1.0</td>\n",
              "      <td>30.0</td>\n",
              "      <td>109.0</td>\n",
              "      <td>1371.0</td>\n",
              "    </tr>\n",
              "    <tr>\n",
              "      <th>2</th>\n",
              "      <td>386.0</td>\n",
              "      <td>15.0</td>\n",
              "      <td>508.0</td>\n",
              "      <td>34.0</td>\n",
              "      <td>5.0</td>\n",
              "      <td>40.0</td>\n",
              "      <td>15.0</td>\n",
              "      <td>190.0</td>\n",
              "    </tr>\n",
              "    <tr>\n",
              "      <th>3</th>\n",
              "      <td>149.0</td>\n",
              "      <td>18.0</td>\n",
              "      <td>541.0</td>\n",
              "      <td>26.0</td>\n",
              "      <td>7.0</td>\n",
              "      <td>30.0</td>\n",
              "      <td>68.0</td>\n",
              "      <td>360.0</td>\n",
              "    </tr>\n",
              "    <tr>\n",
              "      <th>4</th>\n",
              "      <td>621.0</td>\n",
              "      <td>18.0</td>\n",
              "      <td>252.0</td>\n",
              "      <td>20.0</td>\n",
              "      <td>2.0</td>\n",
              "      <td>36.0</td>\n",
              "      <td>25.0</td>\n",
              "      <td>1169.0</td>\n",
              "    </tr>\n",
              "    <tr>\n",
              "      <th>...</th>\n",
              "      <td>...</td>\n",
              "      <td>...</td>\n",
              "      <td>...</td>\n",
              "      <td>...</td>\n",
              "      <td>...</td>\n",
              "      <td>...</td>\n",
              "      <td>...</td>\n",
              "      <td>...</td>\n",
              "    </tr>\n",
              "    <tr>\n",
              "      <th>2875</th>\n",
              "      <td>745.0</td>\n",
              "      <td>18.0</td>\n",
              "      <td>170.0</td>\n",
              "      <td>134.0</td>\n",
              "      <td>2.0</td>\n",
              "      <td>40.0</td>\n",
              "      <td>17.0</td>\n",
              "      <td>1113.0</td>\n",
              "    </tr>\n",
              "    <tr>\n",
              "      <th>2876</th>\n",
              "      <td>402.0</td>\n",
              "      <td>19.0</td>\n",
              "      <td>549.0</td>\n",
              "      <td>134.0</td>\n",
              "      <td>5.0</td>\n",
              "      <td>12.0</td>\n",
              "      <td>94.0</td>\n",
              "      <td>1994.0</td>\n",
              "    </tr>\n",
              "    <tr>\n",
              "      <th>2877</th>\n",
              "      <td>726.0</td>\n",
              "      <td>18.0</td>\n",
              "      <td>596.0</td>\n",
              "      <td>26.0</td>\n",
              "      <td>2.0</td>\n",
              "      <td>24.0</td>\n",
              "      <td>78.0</td>\n",
              "      <td>1600.0</td>\n",
              "    </tr>\n",
              "    <tr>\n",
              "      <th>2878</th>\n",
              "      <td>834.0</td>\n",
              "      <td>15.0</td>\n",
              "      <td>61.0</td>\n",
              "      <td>15.0</td>\n",
              "      <td>5.0</td>\n",
              "      <td>12.0</td>\n",
              "      <td>95.0</td>\n",
              "      <td>2619.0</td>\n",
              "    </tr>\n",
              "    <tr>\n",
              "      <th>2879</th>\n",
              "      <td>235.0</td>\n",
              "      <td>18.0</td>\n",
              "      <td>248.0</td>\n",
              "      <td>272.0</td>\n",
              "      <td>4.0</td>\n",
              "      <td>30.0</td>\n",
              "      <td>161.0</td>\n",
              "      <td>2738.0</td>\n",
              "    </tr>\n",
              "  </tbody>\n",
              "</table>\n",
              "<p>2880 rows × 8 columns</p>\n",
              "</div>"
            ],
            "text/plain": [
              "       name  modeldate  Exteriorcolor  ...  Transmission  Engine  Mileage\n",
              "0     699.0       18.0          112.0  ...          40.0    49.0   1036.0\n",
              "1     264.0       18.0           36.0  ...          30.0   109.0   1371.0\n",
              "2     386.0       15.0          508.0  ...          40.0    15.0    190.0\n",
              "3     149.0       18.0          541.0  ...          30.0    68.0    360.0\n",
              "4     621.0       18.0          252.0  ...          36.0    25.0   1169.0\n",
              "...     ...        ...            ...  ...           ...     ...      ...\n",
              "2875  745.0       18.0          170.0  ...          40.0    17.0   1113.0\n",
              "2876  402.0       19.0          549.0  ...          12.0    94.0   1994.0\n",
              "2877  726.0       18.0          596.0  ...          24.0    78.0   1600.0\n",
              "2878  834.0       15.0           61.0  ...          12.0    95.0   2619.0\n",
              "2879  235.0       18.0          248.0  ...          30.0   161.0   2738.0\n",
              "\n",
              "[2880 rows x 8 columns]"
            ]
          },
          "metadata": {
            "tags": []
          },
          "execution_count": 145
        }
      ]
    },
    {
      "cell_type": "code",
      "metadata": {
        "colab": {
          "base_uri": "https://localhost:8080/",
          "height": 292
        },
        "id": "Jyu5uAs6orGy",
        "outputId": "161b0e38-a95c-4f91-9838-162e7ceaee3f"
      },
      "source": [
        "dfedited_encoded.describe()"
      ],
      "execution_count": null,
      "outputs": [
        {
          "output_type": "execute_result",
          "data": {
            "text/html": [
              "<div>\n",
              "<style scoped>\n",
              "    .dataframe tbody tr th:only-of-type {\n",
              "        vertical-align: middle;\n",
              "    }\n",
              "\n",
              "    .dataframe tbody tr th {\n",
              "        vertical-align: top;\n",
              "    }\n",
              "\n",
              "    .dataframe thead th {\n",
              "        text-align: right;\n",
              "    }\n",
              "</style>\n",
              "<table border=\"1\" class=\"dataframe\">\n",
              "  <thead>\n",
              "    <tr style=\"text-align: right;\">\n",
              "      <th></th>\n",
              "      <th>name</th>\n",
              "      <th>modeldate</th>\n",
              "      <th>Exteriorcolor</th>\n",
              "      <th>Interiorcolor</th>\n",
              "      <th>Drivetrain</th>\n",
              "      <th>Transmission</th>\n",
              "      <th>Engine</th>\n",
              "      <th>Mileage</th>\n",
              "    </tr>\n",
              "  </thead>\n",
              "  <tbody>\n",
              "    <tr>\n",
              "      <th>count</th>\n",
              "      <td>2880.000000</td>\n",
              "      <td>2880.000000</td>\n",
              "      <td>2880.000000</td>\n",
              "      <td>2880.000000</td>\n",
              "      <td>2880.000000</td>\n",
              "      <td>2880.000000</td>\n",
              "      <td>2880.000000</td>\n",
              "      <td>2880.000000</td>\n",
              "    </tr>\n",
              "    <tr>\n",
              "      <th>mean</th>\n",
              "      <td>440.206597</td>\n",
              "      <td>17.351736</td>\n",
              "      <td>291.692361</td>\n",
              "      <td>106.132292</td>\n",
              "      <td>3.573958</td>\n",
              "      <td>24.575694</td>\n",
              "      <td>89.469792</td>\n",
              "      <td>1403.125000</td>\n",
              "    </tr>\n",
              "    <tr>\n",
              "      <th>std</th>\n",
              "      <td>243.620378</td>\n",
              "      <td>2.939159</td>\n",
              "      <td>192.139163</td>\n",
              "      <td>89.649672</td>\n",
              "      <td>1.790547</td>\n",
              "      <td>12.740190</td>\n",
              "      <td>60.754585</td>\n",
              "      <td>815.461639</td>\n",
              "    </tr>\n",
              "    <tr>\n",
              "      <th>min</th>\n",
              "      <td>0.000000</td>\n",
              "      <td>0.000000</td>\n",
              "      <td>0.000000</td>\n",
              "      <td>0.000000</td>\n",
              "      <td>0.000000</td>\n",
              "      <td>0.000000</td>\n",
              "      <td>0.000000</td>\n",
              "      <td>0.000000</td>\n",
              "    </tr>\n",
              "    <tr>\n",
              "      <th>25%</th>\n",
              "      <td>247.000000</td>\n",
              "      <td>17.000000</td>\n",
              "      <td>104.000000</td>\n",
              "      <td>26.000000</td>\n",
              "      <td>2.000000</td>\n",
              "      <td>12.000000</td>\n",
              "      <td>33.000000</td>\n",
              "      <td>692.750000</td>\n",
              "    </tr>\n",
              "    <tr>\n",
              "      <th>50%</th>\n",
              "      <td>413.000000</td>\n",
              "      <td>18.000000</td>\n",
              "      <td>282.500000</td>\n",
              "      <td>71.000000</td>\n",
              "      <td>4.000000</td>\n",
              "      <td>30.000000</td>\n",
              "      <td>91.000000</td>\n",
              "      <td>1399.500000</td>\n",
              "    </tr>\n",
              "    <tr>\n",
              "      <th>75%</th>\n",
              "      <td>644.000000</td>\n",
              "      <td>19.000000</td>\n",
              "      <td>449.000000</td>\n",
              "      <td>158.000000</td>\n",
              "      <td>5.000000</td>\n",
              "      <td>36.000000</td>\n",
              "      <td>125.000000</td>\n",
              "      <td>2107.250000</td>\n",
              "    </tr>\n",
              "    <tr>\n",
              "      <th>max</th>\n",
              "      <td>891.000000</td>\n",
              "      <td>21.000000</td>\n",
              "      <td>626.000000</td>\n",
              "      <td>272.000000</td>\n",
              "      <td>8.000000</td>\n",
              "      <td>53.000000</td>\n",
              "      <td>248.000000</td>\n",
              "      <td>2821.000000</td>\n",
              "    </tr>\n",
              "  </tbody>\n",
              "</table>\n",
              "</div>"
            ],
            "text/plain": [
              "              name    modeldate  ...       Engine      Mileage\n",
              "count  2880.000000  2880.000000  ...  2880.000000  2880.000000\n",
              "mean    440.206597    17.351736  ...    89.469792  1403.125000\n",
              "std     243.620378     2.939159  ...    60.754585   815.461639\n",
              "min       0.000000     0.000000  ...     0.000000     0.000000\n",
              "25%     247.000000    17.000000  ...    33.000000   692.750000\n",
              "50%     413.000000    18.000000  ...    91.000000  1399.500000\n",
              "75%     644.000000    19.000000  ...   125.000000  2107.250000\n",
              "max     891.000000    21.000000  ...   248.000000  2821.000000\n",
              "\n",
              "[8 rows x 8 columns]"
            ]
          },
          "metadata": {
            "tags": []
          },
          "execution_count": 146
        }
      ]
    },
    {
      "cell_type": "markdown",
      "source": [
        "# Naive base method"
      ],
      "metadata": {
        "id": "5EciMUfqoMWb"
      }
    },
    {
      "cell_type": "code",
      "metadata": {
        "id": "6xziDlMuo64i"
      },
      "source": [
        "X = dfedited_encoded\n",
        "Y = dfedited ['listpricecode']"
      ],
      "execution_count": null,
      "outputs": []
    },
    {
      "cell_type": "code",
      "metadata": {
        "id": "aaEZssEEpN-M"
      },
      "source": [
        "from sklearn.model_selection import train_test_split\n",
        "X_train , X_test , Y_train , Y_test  =  train_test_split(X , Y , test_size =0.4)"
      ],
      "execution_count": null,
      "outputs": []
    },
    {
      "cell_type": "code",
      "metadata": {
        "colab": {
          "base_uri": "https://localhost:8080/"
        },
        "id": "3ziyOfW-pT_2",
        "outputId": "d6cf5112-85a3-48b6-c06d-a25290cc1efa"
      },
      "source": [
        "from sklearn.naive_bayes import MultinomialNB\n",
        "from sklearn.naive_bayes import BernoulliNB\n",
        "from sklearn.naive_bayes import GaussianNB\n",
        "\n",
        "MNBclf = GaussianNB ()\n",
        "model = MNBclf.fit(X_train , Y_train)\n",
        "preds = MNBclf.predict( X_test )\n",
        "print(preds)"
      ],
      "execution_count": null,
      "outputs": [
        {
          "output_type": "stream",
          "text": [
            "['it is inrange(25000,50000)' 'it is inrange(25000,50000)'\n",
            " 'it is inrange(0,25000)' ... 'it is inrange(25000,50000)'\n",
            " 'it is inrange(25000,50000)' 'it is inrange(0,25000)']\n"
          ],
          "name": "stdout"
        }
      ]
    },
    {
      "cell_type": "code",
      "metadata": {
        "colab": {
          "base_uri": "https://localhost:8080/"
        },
        "id": "zClWDU8gpXvT",
        "outputId": "1348ebe8-537e-48d8-e65e-5db913bde887"
      },
      "source": [
        "from sklearn.metrics import accuracy_score\n",
        "accuracy_score ( Y_test  , preds)"
      ],
      "execution_count": null,
      "outputs": [
        {
          "output_type": "execute_result",
          "data": {
            "text/plain": [
              "0.6527777777777778"
            ]
          },
          "metadata": {
            "tags": []
          },
          "execution_count": 193
        }
      ]
    },
    {
      "cell_type": "code",
      "metadata": {
        "id": "lR0hdHTlE2yv"
      },
      "source": [
        "#len(df['pricecar'])"
      ],
      "execution_count": null,
      "outputs": []
    },
    {
      "cell_type": "code",
      "metadata": {
        "id": "97t9E6SUDnKL"
      },
      "source": [
        "#df.drop([2,3,4],0)\n",
        "\n",
        "for i in range(0,len(df['pricecar'])):\n",
        "  if df['pricecar'][i]=='nodata':\n",
        "    dfedited=df.drop([i],0)\n",
        "    "
      ],
      "execution_count": null,
      "outputs": []
    },
    {
      "cell_type": "code",
      "metadata": {
        "colab": {
          "base_uri": "https://localhost:8080/"
        },
        "id": "EKP952JnGeuI",
        "outputId": "54c1ae7f-a20f-4b8c-9cc4-c1b821d5f62d"
      },
      "source": [
        "for i in range(0,len(df['pricecar'])):\n",
        "  if df['pricecar'][i]=='nodata':\n",
        "    print(i)"
      ],
      "execution_count": null,
      "outputs": [
        {
          "output_type": "stream",
          "text": [
            "728\n",
            "1540\n",
            "2457\n"
          ],
          "name": "stdout"
        }
      ]
    },
    {
      "cell_type": "code",
      "metadata": {
        "id": "s4rSBjQ7Gq7u"
      },
      "source": [
        "dfedited=df.drop([728,1540,2457],0)"
      ],
      "execution_count": null,
      "outputs": []
    },
    {
      "cell_type": "code",
      "metadata": {
        "id": "8XmRwpGW-UCm"
      },
      "source": [
        "import matplotlib.pyplot as plt\n",
        "import seaborn as sns"
      ],
      "execution_count": null,
      "outputs": []
    },
    {
      "cell_type": "code",
      "metadata": {
        "colab": {
          "base_uri": "https://localhost:8080/",
          "height": 452
        },
        "id": "OCsKRyCSAFqc",
        "outputId": "1e13408d-37de-4b1e-f8f0-f8f2e6057da8"
      },
      "source": [
        "plt.figure(figsize=(20,8))\n",
        "\n",
        "plt.subplot(1,2,1)\n",
        "plt.title('Car Price Distribution Plot')\n",
        "sns.distplot(dfedited.pricecar)\n",
        "\n",
        "plt.subplot(1,2,2)\n",
        "plt.title('Car Price Spread')\n",
        "sns.boxplot(y=dfedited.pricecar)\n",
        "\n",
        "plt.show()"
      ],
      "execution_count": null,
      "outputs": [
        {
          "output_type": "stream",
          "text": [
            "/usr/local/lib/python3.7/dist-packages/seaborn/distributions.py:2557: FutureWarning: `distplot` is a deprecated function and will be removed in a future version. Please adapt your code to use either `displot` (a figure-level function with similar flexibility) or `histplot` (an axes-level function for histograms).\n",
            "  warnings.warn(msg, FutureWarning)\n"
          ],
          "name": "stderr"
        },
        {
          "output_type": "display_data",
          "data": {
            "image/png": "[encoded data removed]",
            "text/plain": [
              "<Figure size 1440x576 with 2 Axes>"
            ]
          },
          "metadata": {
            "tags": [],
            "needs_background": "light"
          }
        }
      ]
    }
  ]
}